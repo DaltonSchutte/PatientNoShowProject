{
 "cells": [
  {
   "cell_type": "code",
   "execution_count": 1,
   "metadata": {},
   "outputs": [],
   "source": [
    "from datetime import datetime\n",
    "\n",
    "import numpy as np\n",
    "import pandas as pd\n",
    "\n",
    "import matplotlib.pyplot as plt\n",
    "\n",
    "import boto3\n",
    "\n",
    "%matplotlib inline"
   ]
  },
  {
   "cell_type": "code",
   "execution_count": 2,
   "metadata": {},
   "outputs": [],
   "source": [
    "BUCKET = \"mlend-capstone\"\n",
    "FILENAME = \"patient_noshow.csv\" #Data from https://www.kaggle.com/joniarroba/noshowappointments"
   ]
  },
  {
   "cell_type": "code",
   "execution_count": 3,
   "metadata": {},
   "outputs": [],
   "source": [
    "s3 = boto3.resource('s3')\n",
    "obj = s3.Object(BUCKET, FILENAME)\n",
    "body = obj.get()['Body'].read().decode('utf-8')"
   ]
  },
  {
   "cell_type": "code",
   "execution_count": 4,
   "metadata": {},
   "outputs": [
    {
     "data": {
      "text/plain": [
       "'PatientId,AppointmentID,Gender,ScheduledDay,AppointmentDay,Age,Neighbourhood,Scholarship,Hipertension,Diabetes,Alcoholism,Handcap,SMS_received,No-show\\n29872499824296,5642903,F,2016-04-29T18:38:08Z,2016-04-29T00:00:00Z,62,JARDIM DA PENHA,0,1,0,0,0,0,No\\n558997776694438,5642503,M,2016-04-29T16:08:27Z,2016-04-29T00:00:00Z,56,JARDIM DA PENHA,0,0,0,0,0,0,No\\n4262962299951,5642549,F,2016-04-29T16:19:04Z,2016-04-29T00:00:00Z,62,MATA DA PRAIA,0,0,0,0,0,0,No\\n867951213174,5642828,F,2016-04-29T17:29:31Z,2016-04-29T00:00:00Z,8,PONTAL DE CAMBURI,0,0,0,0,0,0,No\\n8841186448183,5642494,F,2016-04-29T16:07:23Z,2016-04-29T00:00:00Z,56,JARDIM DA PENHA,0,1,1,0,0,0,No\\n95985133231274,5626772,F,2016-04-27T08:36:51Z,2016-04-29T00:00:00Z,76,REPÚBLICA,0,1,0,0,0,0,No\\n733688164476661,5630279,F,2016-04-27T15:05:12Z,2016-04-29T00:00:00Z,23,GOIABEIRAS,0,0,0,0,0,0,Yes\\n3449833394123,5630575,F,2016-04-27T15:39:58Z,2016-04-29T00:00:00Z,39,GOIABEIRAS,0,0,0,0,0,0,Yes\\n56394729949972,5638447,F,2016-04-29T08:02:16Z,2016-04-29T00'"
      ]
     },
     "execution_count": 4,
     "metadata": {},
     "output_type": "execute_result"
    }
   ],
   "source": [
    "#Examine the first few lines to determine a good symbol to split on\n",
    "body[:1000]"
   ]
  },
  {
   "cell_type": "code",
   "execution_count": 5,
   "metadata": {},
   "outputs": [
    {
     "data": {
      "text/plain": [
       "['PatientId,AppointmentID,Gender,ScheduledDay,AppointmentDay,Age,Neighbourhood,Scholarship,Hipertension,Diabetes,Alcoholism,Handcap,SMS_received,No-show',\n",
       " '29872499824296,5642903,F,2016-04-29T18:38:08Z,2016-04-29T00:00:00Z,62,JARDIM DA PENHA,0,1,0,0,0,0,No',\n",
       " '558997776694438,5642503,M,2016-04-29T16:08:27Z,2016-04-29T00:00:00Z,56,JARDIM DA PENHA,0,0,0,0,0,0,No',\n",
       " '4262962299951,5642549,F,2016-04-29T16:19:04Z,2016-04-29T00:00:00Z,62,MATA DA PRAIA,0,0,0,0,0,0,No',\n",
       " '867951213174,5642828,F,2016-04-29T17:29:31Z,2016-04-29T00:00:00Z,8,PONTAL DE CAMBURI,0,0,0,0,0,0,No']"
      ]
     },
     "execution_count": 5,
     "metadata": {},
     "output_type": "execute_result"
    }
   ],
   "source": [
    "contents = body.split('\\n')\n",
    "contents[:5]"
   ]
  },
  {
   "cell_type": "code",
   "execution_count": 6,
   "metadata": {},
   "outputs": [
    {
     "data": {
      "text/html": [
       "<div>\n",
       "<style scoped>\n",
       "    .dataframe tbody tr th:only-of-type {\n",
       "        vertical-align: middle;\n",
       "    }\n",
       "\n",
       "    .dataframe tbody tr th {\n",
       "        vertical-align: top;\n",
       "    }\n",
       "\n",
       "    .dataframe thead th {\n",
       "        text-align: right;\n",
       "    }\n",
       "</style>\n",
       "<table border=\"1\" class=\"dataframe\">\n",
       "  <thead>\n",
       "    <tr style=\"text-align: right;\">\n",
       "      <th></th>\n",
       "      <th>PatientId</th>\n",
       "      <th>AppointmentID</th>\n",
       "      <th>Gender</th>\n",
       "      <th>ScheduledDay</th>\n",
       "      <th>AppointmentDay</th>\n",
       "      <th>Age</th>\n",
       "      <th>Neighbourhood</th>\n",
       "      <th>Scholarship</th>\n",
       "      <th>Hipertension</th>\n",
       "      <th>Diabetes</th>\n",
       "      <th>Alcoholism</th>\n",
       "      <th>Handcap</th>\n",
       "      <th>SMS_received</th>\n",
       "      <th>No-show</th>\n",
       "    </tr>\n",
       "  </thead>\n",
       "  <tbody>\n",
       "    <tr>\n",
       "      <th>0</th>\n",
       "      <td>29872499824296</td>\n",
       "      <td>5642903</td>\n",
       "      <td>F</td>\n",
       "      <td>2016-04-29T18:38:08Z</td>\n",
       "      <td>2016-04-29T00:00:00Z</td>\n",
       "      <td>62</td>\n",
       "      <td>JARDIM DA PENHA</td>\n",
       "      <td>0</td>\n",
       "      <td>1</td>\n",
       "      <td>0</td>\n",
       "      <td>0</td>\n",
       "      <td>0</td>\n",
       "      <td>0</td>\n",
       "      <td>No</td>\n",
       "    </tr>\n",
       "    <tr>\n",
       "      <th>1</th>\n",
       "      <td>558997776694438</td>\n",
       "      <td>5642503</td>\n",
       "      <td>M</td>\n",
       "      <td>2016-04-29T16:08:27Z</td>\n",
       "      <td>2016-04-29T00:00:00Z</td>\n",
       "      <td>56</td>\n",
       "      <td>JARDIM DA PENHA</td>\n",
       "      <td>0</td>\n",
       "      <td>0</td>\n",
       "      <td>0</td>\n",
       "      <td>0</td>\n",
       "      <td>0</td>\n",
       "      <td>0</td>\n",
       "      <td>No</td>\n",
       "    </tr>\n",
       "    <tr>\n",
       "      <th>2</th>\n",
       "      <td>4262962299951</td>\n",
       "      <td>5642549</td>\n",
       "      <td>F</td>\n",
       "      <td>2016-04-29T16:19:04Z</td>\n",
       "      <td>2016-04-29T00:00:00Z</td>\n",
       "      <td>62</td>\n",
       "      <td>MATA DA PRAIA</td>\n",
       "      <td>0</td>\n",
       "      <td>0</td>\n",
       "      <td>0</td>\n",
       "      <td>0</td>\n",
       "      <td>0</td>\n",
       "      <td>0</td>\n",
       "      <td>No</td>\n",
       "    </tr>\n",
       "    <tr>\n",
       "      <th>3</th>\n",
       "      <td>867951213174</td>\n",
       "      <td>5642828</td>\n",
       "      <td>F</td>\n",
       "      <td>2016-04-29T17:29:31Z</td>\n",
       "      <td>2016-04-29T00:00:00Z</td>\n",
       "      <td>8</td>\n",
       "      <td>PONTAL DE CAMBURI</td>\n",
       "      <td>0</td>\n",
       "      <td>0</td>\n",
       "      <td>0</td>\n",
       "      <td>0</td>\n",
       "      <td>0</td>\n",
       "      <td>0</td>\n",
       "      <td>No</td>\n",
       "    </tr>\n",
       "    <tr>\n",
       "      <th>4</th>\n",
       "      <td>8841186448183</td>\n",
       "      <td>5642494</td>\n",
       "      <td>F</td>\n",
       "      <td>2016-04-29T16:07:23Z</td>\n",
       "      <td>2016-04-29T00:00:00Z</td>\n",
       "      <td>56</td>\n",
       "      <td>JARDIM DA PENHA</td>\n",
       "      <td>0</td>\n",
       "      <td>1</td>\n",
       "      <td>1</td>\n",
       "      <td>0</td>\n",
       "      <td>0</td>\n",
       "      <td>0</td>\n",
       "      <td>No</td>\n",
       "    </tr>\n",
       "  </tbody>\n",
       "</table>\n",
       "</div>"
      ],
      "text/plain": [
       "         PatientId AppointmentID Gender          ScheduledDay  \\\n",
       "0   29872499824296       5642903      F  2016-04-29T18:38:08Z   \n",
       "1  558997776694438       5642503      M  2016-04-29T16:08:27Z   \n",
       "2    4262962299951       5642549      F  2016-04-29T16:19:04Z   \n",
       "3     867951213174       5642828      F  2016-04-29T17:29:31Z   \n",
       "4    8841186448183       5642494      F  2016-04-29T16:07:23Z   \n",
       "\n",
       "         AppointmentDay Age      Neighbourhood Scholarship Hipertension  \\\n",
       "0  2016-04-29T00:00:00Z  62    JARDIM DA PENHA           0            1   \n",
       "1  2016-04-29T00:00:00Z  56    JARDIM DA PENHA           0            0   \n",
       "2  2016-04-29T00:00:00Z  62      MATA DA PRAIA           0            0   \n",
       "3  2016-04-29T00:00:00Z   8  PONTAL DE CAMBURI           0            0   \n",
       "4  2016-04-29T00:00:00Z  56    JARDIM DA PENHA           0            1   \n",
       "\n",
       "  Diabetes Alcoholism Handcap SMS_received No-show  \n",
       "0        0          0       0            0      No  \n",
       "1        0          0       0            0      No  \n",
       "2        0          0       0            0      No  \n",
       "3        0          0       0            0      No  \n",
       "4        1          0       0            0      No  "
      ]
     },
     "execution_count": 6,
     "metadata": {},
     "output_type": "execute_result"
    }
   ],
   "source": [
    "data = pd.DataFrame((row.split(',') for row in contents[1:]), columns=contents[0].split(','))\n",
    "\n",
    "data.head()"
   ]
  },
  {
   "cell_type": "code",
   "execution_count": 7,
   "metadata": {},
   "outputs": [
    {
     "data": {
      "text/html": [
       "<div>\n",
       "<style scoped>\n",
       "    .dataframe tbody tr th:only-of-type {\n",
       "        vertical-align: middle;\n",
       "    }\n",
       "\n",
       "    .dataframe tbody tr th {\n",
       "        vertical-align: top;\n",
       "    }\n",
       "\n",
       "    .dataframe thead th {\n",
       "        text-align: right;\n",
       "    }\n",
       "</style>\n",
       "<table border=\"1\" class=\"dataframe\">\n",
       "  <thead>\n",
       "    <tr style=\"text-align: right;\">\n",
       "      <th></th>\n",
       "      <th>PatientId</th>\n",
       "      <th>AppointmentID</th>\n",
       "      <th>Gender</th>\n",
       "      <th>ScheduledDay</th>\n",
       "      <th>AppointmentDay</th>\n",
       "      <th>Age</th>\n",
       "      <th>Neighbourhood</th>\n",
       "      <th>Scholarship</th>\n",
       "      <th>Hipertension</th>\n",
       "      <th>Diabetes</th>\n",
       "      <th>Alcoholism</th>\n",
       "      <th>Handcap</th>\n",
       "      <th>SMS_received</th>\n",
       "      <th>No-show</th>\n",
       "    </tr>\n",
       "  </thead>\n",
       "  <tbody>\n",
       "    <tr>\n",
       "      <th>110523</th>\n",
       "      <td>3596266328735</td>\n",
       "      <td>5650093</td>\n",
       "      <td>F</td>\n",
       "      <td>2016-05-03T07:27:33Z</td>\n",
       "      <td>2016-06-07T00:00:00Z</td>\n",
       "      <td>51</td>\n",
       "      <td>MARIA ORTIZ</td>\n",
       "      <td>0</td>\n",
       "      <td>0</td>\n",
       "      <td>0</td>\n",
       "      <td>0</td>\n",
       "      <td>0</td>\n",
       "      <td>1</td>\n",
       "      <td>No</td>\n",
       "    </tr>\n",
       "    <tr>\n",
       "      <th>110524</th>\n",
       "      <td>15576631729893</td>\n",
       "      <td>5630692</td>\n",
       "      <td>F</td>\n",
       "      <td>2016-04-27T16:03:52Z</td>\n",
       "      <td>2016-06-07T00:00:00Z</td>\n",
       "      <td>21</td>\n",
       "      <td>MARIA ORTIZ</td>\n",
       "      <td>0</td>\n",
       "      <td>0</td>\n",
       "      <td>0</td>\n",
       "      <td>0</td>\n",
       "      <td>0</td>\n",
       "      <td>1</td>\n",
       "      <td>No</td>\n",
       "    </tr>\n",
       "    <tr>\n",
       "      <th>110525</th>\n",
       "      <td>92134931435557</td>\n",
       "      <td>5630323</td>\n",
       "      <td>F</td>\n",
       "      <td>2016-04-27T15:09:23Z</td>\n",
       "      <td>2016-06-07T00:00:00Z</td>\n",
       "      <td>38</td>\n",
       "      <td>MARIA ORTIZ</td>\n",
       "      <td>0</td>\n",
       "      <td>0</td>\n",
       "      <td>0</td>\n",
       "      <td>0</td>\n",
       "      <td>0</td>\n",
       "      <td>1</td>\n",
       "      <td>No</td>\n",
       "    </tr>\n",
       "    <tr>\n",
       "      <th>110526</th>\n",
       "      <td>377511518121127</td>\n",
       "      <td>5629448</td>\n",
       "      <td>F</td>\n",
       "      <td>2016-04-27T13:30:56Z</td>\n",
       "      <td>2016-06-07T00:00:00Z</td>\n",
       "      <td>54</td>\n",
       "      <td>MARIA ORTIZ</td>\n",
       "      <td>0</td>\n",
       "      <td>0</td>\n",
       "      <td>0</td>\n",
       "      <td>0</td>\n",
       "      <td>0</td>\n",
       "      <td>1</td>\n",
       "      <td>No</td>\n",
       "    </tr>\n",
       "    <tr>\n",
       "      <th>110527</th>\n",
       "      <td></td>\n",
       "      <td>None</td>\n",
       "      <td>None</td>\n",
       "      <td>None</td>\n",
       "      <td>None</td>\n",
       "      <td>None</td>\n",
       "      <td>None</td>\n",
       "      <td>None</td>\n",
       "      <td>None</td>\n",
       "      <td>None</td>\n",
       "      <td>None</td>\n",
       "      <td>None</td>\n",
       "      <td>None</td>\n",
       "      <td>None</td>\n",
       "    </tr>\n",
       "  </tbody>\n",
       "</table>\n",
       "</div>"
      ],
      "text/plain": [
       "              PatientId AppointmentID Gender          ScheduledDay  \\\n",
       "110523    3596266328735       5650093      F  2016-05-03T07:27:33Z   \n",
       "110524   15576631729893       5630692      F  2016-04-27T16:03:52Z   \n",
       "110525   92134931435557       5630323      F  2016-04-27T15:09:23Z   \n",
       "110526  377511518121127       5629448      F  2016-04-27T13:30:56Z   \n",
       "110527                           None   None                  None   \n",
       "\n",
       "              AppointmentDay   Age Neighbourhood Scholarship Hipertension  \\\n",
       "110523  2016-06-07T00:00:00Z    51   MARIA ORTIZ           0            0   \n",
       "110524  2016-06-07T00:00:00Z    21   MARIA ORTIZ           0            0   \n",
       "110525  2016-06-07T00:00:00Z    38   MARIA ORTIZ           0            0   \n",
       "110526  2016-06-07T00:00:00Z    54   MARIA ORTIZ           0            0   \n",
       "110527                  None  None          None        None         None   \n",
       "\n",
       "       Diabetes Alcoholism Handcap SMS_received No-show  \n",
       "110523        0          0       0            1      No  \n",
       "110524        0          0       0            1      No  \n",
       "110525        0          0       0            1      No  \n",
       "110526        0          0       0            1      No  \n",
       "110527     None       None    None         None    None  "
      ]
     },
     "execution_count": 7,
     "metadata": {},
     "output_type": "execute_result"
    }
   ],
   "source": [
    "data.tail()"
   ]
  },
  {
   "cell_type": "code",
   "execution_count": 8,
   "metadata": {},
   "outputs": [
    {
     "data": {
      "text/html": [
       "<div>\n",
       "<style scoped>\n",
       "    .dataframe tbody tr th:only-of-type {\n",
       "        vertical-align: middle;\n",
       "    }\n",
       "\n",
       "    .dataframe tbody tr th {\n",
       "        vertical-align: top;\n",
       "    }\n",
       "\n",
       "    .dataframe thead th {\n",
       "        text-align: right;\n",
       "    }\n",
       "</style>\n",
       "<table border=\"1\" class=\"dataframe\">\n",
       "  <thead>\n",
       "    <tr style=\"text-align: right;\">\n",
       "      <th></th>\n",
       "      <th>PatientId</th>\n",
       "      <th>AppointmentID</th>\n",
       "      <th>Gender</th>\n",
       "      <th>ScheduledDay</th>\n",
       "      <th>AppointmentDay</th>\n",
       "      <th>Age</th>\n",
       "      <th>Neighbourhood</th>\n",
       "      <th>Scholarship</th>\n",
       "      <th>Hipertension</th>\n",
       "      <th>Diabetes</th>\n",
       "      <th>Alcoholism</th>\n",
       "      <th>Handcap</th>\n",
       "      <th>SMS_received</th>\n",
       "      <th>No-show</th>\n",
       "    </tr>\n",
       "  </thead>\n",
       "  <tbody>\n",
       "    <tr>\n",
       "      <th>110522</th>\n",
       "      <td>2572134369293</td>\n",
       "      <td>5651768</td>\n",
       "      <td>F</td>\n",
       "      <td>2016-05-03T09:15:35Z</td>\n",
       "      <td>2016-06-07T00:00:00Z</td>\n",
       "      <td>56</td>\n",
       "      <td>MARIA ORTIZ</td>\n",
       "      <td>0</td>\n",
       "      <td>0</td>\n",
       "      <td>0</td>\n",
       "      <td>0</td>\n",
       "      <td>0</td>\n",
       "      <td>1</td>\n",
       "      <td>No</td>\n",
       "    </tr>\n",
       "    <tr>\n",
       "      <th>110523</th>\n",
       "      <td>3596266328735</td>\n",
       "      <td>5650093</td>\n",
       "      <td>F</td>\n",
       "      <td>2016-05-03T07:27:33Z</td>\n",
       "      <td>2016-06-07T00:00:00Z</td>\n",
       "      <td>51</td>\n",
       "      <td>MARIA ORTIZ</td>\n",
       "      <td>0</td>\n",
       "      <td>0</td>\n",
       "      <td>0</td>\n",
       "      <td>0</td>\n",
       "      <td>0</td>\n",
       "      <td>1</td>\n",
       "      <td>No</td>\n",
       "    </tr>\n",
       "    <tr>\n",
       "      <th>110524</th>\n",
       "      <td>15576631729893</td>\n",
       "      <td>5630692</td>\n",
       "      <td>F</td>\n",
       "      <td>2016-04-27T16:03:52Z</td>\n",
       "      <td>2016-06-07T00:00:00Z</td>\n",
       "      <td>21</td>\n",
       "      <td>MARIA ORTIZ</td>\n",
       "      <td>0</td>\n",
       "      <td>0</td>\n",
       "      <td>0</td>\n",
       "      <td>0</td>\n",
       "      <td>0</td>\n",
       "      <td>1</td>\n",
       "      <td>No</td>\n",
       "    </tr>\n",
       "    <tr>\n",
       "      <th>110525</th>\n",
       "      <td>92134931435557</td>\n",
       "      <td>5630323</td>\n",
       "      <td>F</td>\n",
       "      <td>2016-04-27T15:09:23Z</td>\n",
       "      <td>2016-06-07T00:00:00Z</td>\n",
       "      <td>38</td>\n",
       "      <td>MARIA ORTIZ</td>\n",
       "      <td>0</td>\n",
       "      <td>0</td>\n",
       "      <td>0</td>\n",
       "      <td>0</td>\n",
       "      <td>0</td>\n",
       "      <td>1</td>\n",
       "      <td>No</td>\n",
       "    </tr>\n",
       "    <tr>\n",
       "      <th>110526</th>\n",
       "      <td>377511518121127</td>\n",
       "      <td>5629448</td>\n",
       "      <td>F</td>\n",
       "      <td>2016-04-27T13:30:56Z</td>\n",
       "      <td>2016-06-07T00:00:00Z</td>\n",
       "      <td>54</td>\n",
       "      <td>MARIA ORTIZ</td>\n",
       "      <td>0</td>\n",
       "      <td>0</td>\n",
       "      <td>0</td>\n",
       "      <td>0</td>\n",
       "      <td>0</td>\n",
       "      <td>1</td>\n",
       "      <td>No</td>\n",
       "    </tr>\n",
       "  </tbody>\n",
       "</table>\n",
       "</div>"
      ],
      "text/plain": [
       "              PatientId AppointmentID Gender          ScheduledDay  \\\n",
       "110522    2572134369293       5651768      F  2016-05-03T09:15:35Z   \n",
       "110523    3596266328735       5650093      F  2016-05-03T07:27:33Z   \n",
       "110524   15576631729893       5630692      F  2016-04-27T16:03:52Z   \n",
       "110525   92134931435557       5630323      F  2016-04-27T15:09:23Z   \n",
       "110526  377511518121127       5629448      F  2016-04-27T13:30:56Z   \n",
       "\n",
       "              AppointmentDay Age Neighbourhood Scholarship Hipertension  \\\n",
       "110522  2016-06-07T00:00:00Z  56   MARIA ORTIZ           0            0   \n",
       "110523  2016-06-07T00:00:00Z  51   MARIA ORTIZ           0            0   \n",
       "110524  2016-06-07T00:00:00Z  21   MARIA ORTIZ           0            0   \n",
       "110525  2016-06-07T00:00:00Z  38   MARIA ORTIZ           0            0   \n",
       "110526  2016-06-07T00:00:00Z  54   MARIA ORTIZ           0            0   \n",
       "\n",
       "       Diabetes Alcoholism Handcap SMS_received No-show  \n",
       "110522        0          0       0            1      No  \n",
       "110523        0          0       0            1      No  \n",
       "110524        0          0       0            1      No  \n",
       "110525        0          0       0            1      No  \n",
       "110526        0          0       0            1      No  "
      ]
     },
     "execution_count": 8,
     "metadata": {},
     "output_type": "execute_result"
    }
   ],
   "source": [
    "#We will drop the last row\n",
    "data = data.drop(index=[110527])\n",
    "data.tail() #Sanity check"
   ]
  },
  {
   "cell_type": "code",
   "execution_count": 9,
   "metadata": {},
   "outputs": [
    {
     "name": "stdout",
     "output_type": "stream",
     "text": [
      "<class 'pandas.core.frame.DataFrame'>\n",
      "Int64Index: 110527 entries, 0 to 110526\n",
      "Data columns (total 14 columns):\n",
      "PatientId         110527 non-null object\n",
      "AppointmentID     110527 non-null object\n",
      "Gender            110527 non-null object\n",
      "ScheduledDay      110527 non-null object\n",
      "AppointmentDay    110527 non-null object\n",
      "Age               110527 non-null object\n",
      "Neighbourhood     110527 non-null object\n",
      "Scholarship       110527 non-null object\n",
      "Hipertension      110527 non-null object\n",
      "Diabetes          110527 non-null object\n",
      "Alcoholism        110527 non-null object\n",
      "Handcap           110527 non-null object\n",
      "SMS_received      110527 non-null object\n",
      "No-show           110527 non-null object\n",
      "dtypes: object(14)\n",
      "memory usage: 12.6+ MB\n"
     ]
    }
   ],
   "source": [
    "data.info()"
   ]
  },
  {
   "cell_type": "code",
   "execution_count": 10,
   "metadata": {},
   "outputs": [],
   "source": [
    "#The dataset is remarkably complete. However, the column data types need to be updated\n",
    "#and some of the names need to be corrected.\n",
    "rename_map = {'Hipertension': 'Hypertension',\n",
    "              'Handcap': 'Handicap',\n",
    "              'No-show': 'NoShow'\n",
    "             }\n",
    "\n",
    "data_type_map = {'PatientId': 'str',\n",
    "                 'AppointmentID': 'str',\n",
    "                 'Gender': 'category',\n",
    "                 'ScheduledDay': 'datetime64[ns]',\n",
    "                 'AppointmentDay': 'datetime64[ns]',\n",
    "                 'Age': 'int',\n",
    "                 'Neighbourhood': 'category',\n",
    "                 'Scholarship': 'category',\n",
    "                 'Hypertension': 'category',\n",
    "                 'Diabetes': 'category',\n",
    "                 'Alcoholism': 'category',\n",
    "                 'Handicap': 'category',\n",
    "                 'SMS_received': 'category',\n",
    "                 'NoShow': 'category'\n",
    "                }\n",
    "\n",
    "data = data.rename(columns=rename_map).astype(data_type_map)"
   ]
  },
  {
   "cell_type": "code",
   "execution_count": 11,
   "metadata": {},
   "outputs": [
    {
     "name": "stdout",
     "output_type": "stream",
     "text": [
      "<class 'pandas.core.frame.DataFrame'>\n",
      "Int64Index: 110527 entries, 0 to 110526\n",
      "Data columns (total 14 columns):\n",
      "PatientId         110527 non-null object\n",
      "AppointmentID     110527 non-null object\n",
      "Gender            110527 non-null category\n",
      "ScheduledDay      110527 non-null datetime64[ns]\n",
      "AppointmentDay    110527 non-null datetime64[ns]\n",
      "Age               110527 non-null int64\n",
      "Neighbourhood     110527 non-null category\n",
      "Scholarship       110527 non-null category\n",
      "Hypertension      110527 non-null category\n",
      "Diabetes          110527 non-null category\n",
      "Alcoholism        110527 non-null category\n",
      "Handicap          110527 non-null category\n",
      "SMS_received      110527 non-null category\n",
      "NoShow            110527 non-null category\n",
      "dtypes: category(9), datetime64[ns](2), int64(1), object(2)\n",
      "memory usage: 6.0+ MB\n"
     ]
    }
   ],
   "source": [
    "data.info()"
   ]
  },
  {
   "cell_type": "code",
   "execution_count": 12,
   "metadata": {},
   "outputs": [
    {
     "name": "stdout",
     "output_type": "stream",
     "text": [
      "10\n",
      "['Gender', 'Age', 'Neighbourhood', 'Scholarship', 'Hypertension', 'Diabetes', 'Alcoholism', 'Handicap', 'SMS_received', 'NoShow']\n"
     ]
    }
   ],
   "source": [
    "#We will visualize the columns to develop a \n",
    "#sense for the distributions of the features\n",
    "\n",
    "viz_cols = list(data.columns)\n",
    "viz_cols.remove('PatientId')\n",
    "viz_cols.remove('AppointmentID')\n",
    "viz_cols.remove('ScheduledDay')\n",
    "viz_cols.remove('AppointmentDay')\n",
    "print(len(viz_cols))\n",
    "print(viz_cols)"
   ]
  },
  {
   "cell_type": "code",
   "execution_count": 13,
   "metadata": {
    "scrolled": false
   },
   "outputs": [
    {
     "name": "stdout",
     "output_type": "stream",
     "text": [
      "===\t===\tGender\t===\t===\n",
      "F\t71840\t64.998%\n",
      "M\t38687\t35.002%\n"
     ]
    },
    {
     "data": {
      "image/png": "[encoded data removed]",
      "text/plain": [
       "<Figure size 1440x360 with 1 Axes>"
      ]
     },
     "metadata": {},
     "output_type": "display_data"
    },
    {
     "name": "stdout",
     "output_type": "stream",
     "text": [
      "===\t===\tAge\t===\t===\n",
      "count    110527.000000\n",
      "mean         37.088874\n",
      "std          23.110205\n",
      "min          -1.000000\n",
      "25%          18.000000\n",
      "50%          37.000000\n",
      "75%          55.000000\n",
      "max         115.000000\n",
      "Name: Age, dtype: float64\n"
     ]
    },
    {
     "data": {
      "image/png": "[encoded data removed]",
      "text/plain": [
       "<Figure size 1440x360 with 1 Axes>"
      ]
     },
     "metadata": {},
     "output_type": "display_data"
    },
    {
     "name": "stdout",
     "output_type": "stream",
     "text": [
      "===\t===\tNeighbourhood\t===\t===\n",
      "JARDIM CAMBURI\t7717\t6.982%\n",
      "MARIA ORTIZ\t5805\t5.252%\n",
      "RESISTÊNCIA\t4431\t4.009%\n",
      "JARDIM DA PENHA\t3877\t3.508%\n",
      "ITARARÉ\t3514\t3.179%\n",
      "CENTRO\t3334\t3.016%\n",
      "TABUAZEIRO\t3132\t2.834%\n",
      "SANTA MARTHA\t3131\t2.833%\n",
      "JESUS DE NAZARETH\t2853\t2.581%\n",
      "BONFIM\t2773\t2.509%\n",
      "SANTO ANTÔNIO\t2746\t2.484%\n",
      "SANTO ANDRÉ\t2571\t2.326%\n",
      "CARATOÍRA\t2565\t2.321%\n",
      "JABOUR\t2509\t2.270%\n",
      "SÃO PEDRO\t2448\t2.215%\n",
      "ILHA DO PRÍNCIPE\t2266\t2.050%\n",
      "NOVA PALESTINA\t2264\t2.048%\n",
      "ANDORINHAS\t2262\t2.047%\n",
      "DA PENHA\t2217\t2.006%\n",
      "ROMÃO\t2215\t2.004%\n",
      "GURIGICA\t2018\t1.826%\n",
      "SÃO JOSÉ\t1977\t1.789%\n",
      "BELA VISTA\t1907\t1.725%\n",
      "MARUÍPE\t1902\t1.721%\n",
      "FORTE SÃO JOÃO\t1889\t1.709%\n",
      "ILHA DE SANTA MARIA\t1885\t1.705%\n",
      "SÃO CRISTÓVÃO\t1836\t1.661%\n",
      "REDENÇÃO\t1553\t1.405%\n",
      "SÃO BENEDITO\t1439\t1.302%\n",
      "JOANA D´ARC\t1427\t1.291%\n",
      "CRUZAMENTO\t1398\t1.265%\n",
      "CONSOLAÇÃO\t1376\t1.245%\n",
      "SANTA TEREZA\t1332\t1.205%\n",
      "PRAIA DO SUÁ\t1288\t1.165%\n",
      "SANTOS DUMONT\t1276\t1.154%\n",
      "ILHA DAS CAIEIRAS\t1071\t0.969%\n",
      "GRANDE VITÓRIA\t1071\t0.969%\n",
      "INHANGUETÁ\t1057\t0.956%\n",
      "PRAIA DO CANTO\t1035\t0.936%\n",
      "BENTO FERREIRA\t858\t0.776%\n",
      "VILA RUBIM\t851\t0.770%\n",
      "DO QUADRO\t849\t0.768%\n",
      "CONQUISTA\t849\t0.768%\n",
      "REPÚBLICA\t835\t0.755%\n",
      "MONTE BELO\t824\t0.746%\n",
      "PARQUE MOSCOSO\t802\t0.726%\n",
      "GOIABEIRAS\t700\t0.633%\n",
      "JUCUTUQUARA\t694\t0.628%\n",
      "FONTE GRANDE\t682\t0.617%\n",
      "MATA DA PRAIA\t644\t0.583%\n",
      "DO CABRAL\t560\t0.507%\n",
      "SANTOS REIS\t547\t0.495%\n",
      "ESTRELINHA\t538\t0.487%\n",
      "SANTA CLARA\t506\t0.458%\n",
      "SOLON BORGES\t469\t0.424%\n",
      "PIEDADE\t452\t0.409%\n",
      "SANTA CECÍLIA\t448\t0.405%\n",
      "SANTA LÚCIA\t438\t0.396%\n",
      "SANTA LUÍZA\t428\t0.387%\n",
      "BARRO VERMELHO\t423\t0.383%\n",
      "DO MOSCOSO\t413\t0.374%\n",
      "MÁRIO CYPRESTE\t371\t0.336%\n",
      "BOA VISTA\t312\t0.282%\n",
      "COMDUSA\t310\t0.280%\n",
      "DE LOURDES\t305\t0.276%\n",
      "ARIOVALDO FAVALESSA\t282\t0.255%\n",
      "ANTÔNIO HONÓRIO\t271\t0.245%\n",
      "FRADINHOS\t258\t0.233%\n",
      "ENSEADA DO SUÁ\t235\t0.213%\n",
      "SANTA HELENA\t178\t0.161%\n",
      "HORTO\t175\t0.158%\n",
      "UNIVERSITÁRIO\t152\t0.138%\n",
      "SEGURANÇA DO LAR\t145\t0.131%\n",
      "NAZARETH\t135\t0.122%\n",
      "MORADA DE CAMBURI\t96\t0.087%\n",
      "PONTAL DE CAMBURI\t69\t0.062%\n",
      "ILHA DO BOI\t35\t0.032%\n",
      "ILHA DO FRADE\t10\t0.009%\n",
      "AEROPORTO\t8\t0.007%\n",
      "ILHAS OCEÂNICAS DE TRINDADE\t2\t0.002%\n",
      "PARQUE INDUSTRIAL\t1\t0.001%\n"
     ]
    },
    {
     "data": {
      "image/png": "[encoded data removed]",
      "text/plain": [
       "<Figure size 1440x360 with 1 Axes>"
      ]
     },
     "metadata": {},
     "output_type": "display_data"
    },
    {
     "name": "stdout",
     "output_type": "stream",
     "text": [
      "===\t===\tScholarship\t===\t===\n",
      "0\t99666\t90.173%\n",
      "1\t10861\t9.827%\n"
     ]
    },
    {
     "data": {
      "image/png": "[encoded data removed]",
      "text/plain": [
       "<Figure size 1440x360 with 1 Axes>"
      ]
     },
     "metadata": {},
     "output_type": "display_data"
    },
    {
     "name": "stdout",
     "output_type": "stream",
     "text": [
      "===\t===\tHypertension\t===\t===\n",
      "0\t88726\t80.275%\n",
      "1\t21801\t19.725%\n"
     ]
    },
    {
     "data": {
      "image/png": "[encoded data removed]",
      "text/plain": [
       "<Figure size 1440x360 with 1 Axes>"
      ]
     },
     "metadata": {},
     "output_type": "display_data"
    },
    {
     "name": "stdout",
     "output_type": "stream",
     "text": [
      "===\t===\tDiabetes\t===\t===\n",
      "0\t102584\t92.814%\n",
      "1\t7943\t7.186%\n"
     ]
    },
    {
     "data": {
      "image/png": "[encoded data removed]",
      "text/plain": [
       "<Figure size 1440x360 with 1 Axes>"
      ]
     },
     "metadata": {},
     "output_type": "display_data"
    },
    {
     "name": "stdout",
     "output_type": "stream",
     "text": [
      "===\t===\tAlcoholism\t===\t===\n",
      "0\t107167\t96.960%\n",
      "1\t3360\t3.040%\n"
     ]
    },
    {
     "data": {
      "image/png": "[encoded data removed]",
      "text/plain": [
       "<Figure size 1440x360 with 1 Axes>"
      ]
     },
     "metadata": {},
     "output_type": "display_data"
    },
    {
     "name": "stdout",
     "output_type": "stream",
     "text": [
      "===\t===\tHandicap\t===\t===\n",
      "0\t108286\t97.972%\n",
      "1\t2042\t1.848%\n",
      "2\t183\t0.166%\n",
      "3\t13\t0.012%\n",
      "4\t3\t0.003%\n"
     ]
    },
    {
     "data": {
      "image/png": "[encoded data removed]",
      "text/plain": [
       "<Figure size 1440x360 with 1 Axes>"
      ]
     },
     "metadata": {},
     "output_type": "display_data"
    },
    {
     "name": "stdout",
     "output_type": "stream",
     "text": [
      "===\t===\tSMS_received\t===\t===\n",
      "0\t75045\t67.897%\n",
      "1\t35482\t32.103%\n"
     ]
    },
    {
     "data": {
      "image/png": "[encoded data removed]",
      "text/plain": [
       "<Figure size 1440x360 with 1 Axes>"
      ]
     },
     "metadata": {},
     "output_type": "display_data"
    },
    {
     "name": "stdout",
     "output_type": "stream",
     "text": [
      "===\t===\tNoShow\t===\t===\n",
      "No\t88208\t79.807%\n",
      "Yes\t22319\t20.193%\n"
     ]
    },
    {
     "data": {
      "image/png": "[encoded data removed]",
      "text/plain": [
       "<Figure size 1440x360 with 1 Axes>"
      ]
     },
     "metadata": {},
     "output_type": "display_data"
    }
   ],
   "source": [
    "for col in viz_cols:\n",
    "    col_ = data[col]\n",
    "    n = len(data)\n",
    "    print(f\"===\\t===\\t{col_.name}\\t===\\t===\")\n",
    "    if isinstance(col_.dtype, pd.core.dtypes.dtypes.CategoricalDtype):\n",
    "        col_.value_counts().plot(kind='bar', figsize=(20,5))\n",
    "        for i, v in zip(col_.value_counts().index, col_.value_counts()):\n",
    "            print(\"{}\\t{}\\t{:.3%}\".format(i,v,v/n))\n",
    "    else: #Age gets ordered by frequency if the \"if\" clause is applied\n",
    "        col_.plot(kind=\"hist\", figsize=(20, 5), bins=len(col_.value_counts()))\n",
    "        print(col_.describe())\n",
    "    plt.show()"
   ]
  },
  {
   "cell_type": "code",
   "execution_count": 14,
   "metadata": {},
   "outputs": [],
   "source": [
    "import scipy.stats as stats\n",
    "n = len(viz_cols)\n",
    "corr_matrix = np.zeros(shape=(n,n))\n",
    "\n",
    "for i, col1 in enumerate(viz_cols):\n",
    "    for j, col2 in enumerate(viz_cols):\n",
    "        #Compute Cramer's V for every pair of columns\n",
    "        #to determine the degree of association between features\n",
    "        #https://en.wikipedia.org/wiki/Cramér%27s_V\n",
    "        conf_matrix = pd.crosstab(data[col1], data[col2])\n",
    "        chi2 = stats.chi2_contingency(conf_matrix)[0]\n",
    "        m = conf_matrix.sum().sum()\n",
    "        phi2 = chi2/m\n",
    "        r, k = conf_matrix.shape\n",
    "        phi2_corr = max(0, phi2-((k-1)*(r-1))/(m-1))\n",
    "        r_corr = r-((r-1)**2)/(m-1)\n",
    "        k_corr = k-((k-1)**2)/(m-1)\n",
    "        corr_matrix[i,j] = round(np.sqrt(phi2_corr/min(k_corr-1,r_corr-1)),2)"
   ]
  },
  {
   "cell_type": "code",
   "execution_count": 15,
   "metadata": {},
   "outputs": [
    {
     "data": {
      "text/plain": [
       "array([[1.  , 0.2 , 0.05, 0.11, 0.06, 0.03, 0.11, 0.02, 0.05, 0.  ],\n",
       "       [0.  , 1.  , 0.05, 0.17, 0.53, 0.33, 0.17, 0.07, 0.06, 0.09],\n",
       "       [0.  , 0.  , 1.  , 0.22, 0.21, 0.12, 0.16, 0.06, 0.09, 0.06],\n",
       "       [0.  , 0.  , 0.  , 1.  , 0.02, 0.02, 0.03, 0.01, 0.  , 0.03],\n",
       "       [0.  , 0.  , 0.  , 0.  , 1.  , 0.43, 0.09, 0.09, 0.01, 0.04],\n",
       "       [0.  , 0.  , 0.  , 0.  , 0.  , 1.  , 0.02, 0.06, 0.01, 0.01],\n",
       "       [0.  , 0.  , 0.  , 0.  , 0.  , 0.  , 1.  , 0.01, 0.03, 0.  ],\n",
       "       [0.  , 0.  , 0.  , 0.  , 0.  , 0.  , 0.  , 1.  , 0.02, 0.01],\n",
       "       [0.  , 0.  , 0.  , 0.  , 0.  , 0.  , 0.  , 0.  , 1.  , 0.13],\n",
       "       [0.  , 0.  , 0.  , 0.  , 0.  , 0.  , 0.  , 0.  , 0.  , 1.  ]])"
      ]
     },
     "execution_count": 15,
     "metadata": {},
     "output_type": "execute_result"
    }
   ],
   "source": [
    "#Remove lower triangle of values for a cleaner plot\n",
    "corr_matrix = np.triu(corr_matrix, k=0) \n",
    "corr_matrix"
   ]
  },
  {
   "cell_type": "code",
   "execution_count": 16,
   "metadata": {},
   "outputs": [
    {
     "data": {
      "image/png": "[encoded data removed]",
      "text/plain": [
       "<Figure size 432x288 with 2 Axes>"
      ]
     },
     "metadata": {},
     "output_type": "display_data"
    }
   ],
   "source": [
    "fig, ax = plt.subplots()\n",
    "im = ax.imshow(corr_matrix, cmap=plt.cm.RdBu)\n",
    "\n",
    "ax.set_xticks(np.arange(n))\n",
    "ax.set_yticks(np.arange(n))\n",
    "\n",
    "ax.set_xticklabels(viz_cols)\n",
    "ax.set_yticklabels(viz_cols)\n",
    "\n",
    "# Rotate the tick labels and set their alignment.\n",
    "plt.setp(ax.get_xticklabels(), rotation=45, ha=\"right\",\n",
    "         rotation_mode=\"anchor\")\n",
    "\n",
    "for i in range(n):\n",
    "    for j in range(n):\n",
    "        text = ax.text(j, i, corr_matrix[i, j],\n",
    "                       ha=\"center\", va=\"center\", color=\"w\")\n",
    "\n",
    "plt.colorbar(im)\n",
    "plt.show()"
   ]
  },
  {
   "cell_type": "markdown",
   "metadata": {},
   "source": [
    "We see that there isn't a particularly strong correlation between any of the feature nor the features and our target (NoShow). In another notebook we will work on feature selection and engineering."
   ]
  },
  {
   "cell_type": "code",
   "execution_count": 17,
   "metadata": {},
   "outputs": [
    {
     "data": {
      "text/plain": [
       "{'ResponseMetadata': {'RequestId': 'C3AA80091BACA2B4',\n",
       "  'HostId': 'y1Pv16BDYnAFzKwQ/rlwLX7MLHWKk9G0lXRr7O/YXW8J7GWgF6e22F5T0rCgkK1ldMpUskPQqs0=',\n",
       "  'HTTPStatusCode': 200,\n",
       "  'HTTPHeaders': {'x-amz-id-2': 'y1Pv16BDYnAFzKwQ/rlwLX7MLHWKk9G0lXRr7O/YXW8J7GWgF6e22F5T0rCgkK1ldMpUskPQqs0=',\n",
       "   'x-amz-request-id': 'C3AA80091BACA2B4',\n",
       "   'date': 'Thu, 16 Apr 2020 17:41:43 GMT',\n",
       "   'etag': '\"02e91ef8f773d5731ff4b7effde67bb8\"',\n",
       "   'content-length': '0',\n",
       "   'server': 'AmazonS3'},\n",
       "  'RetryAttempts': 0},\n",
       " 'ETag': '\"02e91ef8f773d5731ff4b7effde67bb8\"'}"
      ]
     },
     "execution_count": 17,
     "metadata": {},
     "output_type": "execute_result"
    }
   ],
   "source": [
    "#Save dataset for future use\n",
    "from io import StringIO\n",
    "\n",
    "csv_buffer = StringIO()\n",
    "data.to_csv(csv_buffer, header=True, index=False)\n",
    "obj = s3.Object(BUCKET, 'preproc_data.csv')\n",
    "obj.put(Body=csv_buffer.getvalue())"
   ]
  },
  {
   "cell_type": "code",
   "execution_count": 18,
   "metadata": {},
   "outputs": [],
   "source": [
    "#Check that the data was properly saved\n",
    "from io import BytesIO\n",
    "\n",
    "obj = boto3.client('s3').get_object(Bucket=BUCKET, Key='preproc_data.csv')\n",
    "data = pd.read_csv(BytesIO(obj['Body'].read()), index_col=False)"
   ]
  },
  {
   "cell_type": "code",
   "execution_count": 19,
   "metadata": {},
   "outputs": [
    {
     "data": {
      "text/html": [
       "<div>\n",
       "<style scoped>\n",
       "    .dataframe tbody tr th:only-of-type {\n",
       "        vertical-align: middle;\n",
       "    }\n",
       "\n",
       "    .dataframe tbody tr th {\n",
       "        vertical-align: top;\n",
       "    }\n",
       "\n",
       "    .dataframe thead th {\n",
       "        text-align: right;\n",
       "    }\n",
       "</style>\n",
       "<table border=\"1\" class=\"dataframe\">\n",
       "  <thead>\n",
       "    <tr style=\"text-align: right;\">\n",
       "      <th></th>\n",
       "      <th>PatientId</th>\n",
       "      <th>AppointmentID</th>\n",
       "      <th>Gender</th>\n",
       "      <th>ScheduledDay</th>\n",
       "      <th>AppointmentDay</th>\n",
       "      <th>Age</th>\n",
       "      <th>Neighbourhood</th>\n",
       "      <th>Scholarship</th>\n",
       "      <th>Hypertension</th>\n",
       "      <th>Diabetes</th>\n",
       "      <th>Alcoholism</th>\n",
       "      <th>Handicap</th>\n",
       "      <th>SMS_received</th>\n",
       "      <th>NoShow</th>\n",
       "    </tr>\n",
       "  </thead>\n",
       "  <tbody>\n",
       "    <tr>\n",
       "      <th>0</th>\n",
       "      <td>2.987250e+13</td>\n",
       "      <td>5642903</td>\n",
       "      <td>F</td>\n",
       "      <td>2016-04-29 18:38:08</td>\n",
       "      <td>2016-04-29 00:00:00</td>\n",
       "      <td>62</td>\n",
       "      <td>JARDIM DA PENHA</td>\n",
       "      <td>0</td>\n",
       "      <td>1</td>\n",
       "      <td>0</td>\n",
       "      <td>0</td>\n",
       "      <td>0</td>\n",
       "      <td>0</td>\n",
       "      <td>No</td>\n",
       "    </tr>\n",
       "    <tr>\n",
       "      <th>1</th>\n",
       "      <td>5.589978e+14</td>\n",
       "      <td>5642503</td>\n",
       "      <td>M</td>\n",
       "      <td>2016-04-29 16:08:27</td>\n",
       "      <td>2016-04-29 00:00:00</td>\n",
       "      <td>56</td>\n",
       "      <td>JARDIM DA PENHA</td>\n",
       "      <td>0</td>\n",
       "      <td>0</td>\n",
       "      <td>0</td>\n",
       "      <td>0</td>\n",
       "      <td>0</td>\n",
       "      <td>0</td>\n",
       "      <td>No</td>\n",
       "    </tr>\n",
       "    <tr>\n",
       "      <th>2</th>\n",
       "      <td>4.262962e+12</td>\n",
       "      <td>5642549</td>\n",
       "      <td>F</td>\n",
       "      <td>2016-04-29 16:19:04</td>\n",
       "      <td>2016-04-29 00:00:00</td>\n",
       "      <td>62</td>\n",
       "      <td>MATA DA PRAIA</td>\n",
       "      <td>0</td>\n",
       "      <td>0</td>\n",
       "      <td>0</td>\n",
       "      <td>0</td>\n",
       "      <td>0</td>\n",
       "      <td>0</td>\n",
       "      <td>No</td>\n",
       "    </tr>\n",
       "    <tr>\n",
       "      <th>3</th>\n",
       "      <td>8.679512e+11</td>\n",
       "      <td>5642828</td>\n",
       "      <td>F</td>\n",
       "      <td>2016-04-29 17:29:31</td>\n",
       "      <td>2016-04-29 00:00:00</td>\n",
       "      <td>8</td>\n",
       "      <td>PONTAL DE CAMBURI</td>\n",
       "      <td>0</td>\n",
       "      <td>0</td>\n",
       "      <td>0</td>\n",
       "      <td>0</td>\n",
       "      <td>0</td>\n",
       "      <td>0</td>\n",
       "      <td>No</td>\n",
       "    </tr>\n",
       "    <tr>\n",
       "      <th>4</th>\n",
       "      <td>8.841186e+12</td>\n",
       "      <td>5642494</td>\n",
       "      <td>F</td>\n",
       "      <td>2016-04-29 16:07:23</td>\n",
       "      <td>2016-04-29 00:00:00</td>\n",
       "      <td>56</td>\n",
       "      <td>JARDIM DA PENHA</td>\n",
       "      <td>0</td>\n",
       "      <td>1</td>\n",
       "      <td>1</td>\n",
       "      <td>0</td>\n",
       "      <td>0</td>\n",
       "      <td>0</td>\n",
       "      <td>No</td>\n",
       "    </tr>\n",
       "  </tbody>\n",
       "</table>\n",
       "</div>"
      ],
      "text/plain": [
       "      PatientId  AppointmentID Gender         ScheduledDay  \\\n",
       "0  2.987250e+13        5642903      F  2016-04-29 18:38:08   \n",
       "1  5.589978e+14        5642503      M  2016-04-29 16:08:27   \n",
       "2  4.262962e+12        5642549      F  2016-04-29 16:19:04   \n",
       "3  8.679512e+11        5642828      F  2016-04-29 17:29:31   \n",
       "4  8.841186e+12        5642494      F  2016-04-29 16:07:23   \n",
       "\n",
       "        AppointmentDay  Age      Neighbourhood  Scholarship  Hypertension  \\\n",
       "0  2016-04-29 00:00:00   62    JARDIM DA PENHA            0             1   \n",
       "1  2016-04-29 00:00:00   56    JARDIM DA PENHA            0             0   \n",
       "2  2016-04-29 00:00:00   62      MATA DA PRAIA            0             0   \n",
       "3  2016-04-29 00:00:00    8  PONTAL DE CAMBURI            0             0   \n",
       "4  2016-04-29 00:00:00   56    JARDIM DA PENHA            0             1   \n",
       "\n",
       "   Diabetes  Alcoholism  Handicap  SMS_received NoShow  \n",
       "0         0           0         0             0     No  \n",
       "1         0           0         0             0     No  \n",
       "2         0           0         0             0     No  \n",
       "3         0           0         0             0     No  \n",
       "4         1           0         0             0     No  "
      ]
     },
     "execution_count": 19,
     "metadata": {},
     "output_type": "execute_result"
    }
   ],
   "source": [
    "data.head()"
   ]
  },
  {
   "cell_type": "code",
   "execution_count": 20,
   "metadata": {},
   "outputs": [
    {
     "name": "stdout",
     "output_type": "stream",
     "text": [
      "<class 'pandas.core.frame.DataFrame'>\n",
      "RangeIndex: 110527 entries, 0 to 110526\n",
      "Data columns (total 14 columns):\n",
      "PatientId         110527 non-null float64\n",
      "AppointmentID     110527 non-null int64\n",
      "Gender            110527 non-null object\n",
      "ScheduledDay      110527 non-null object\n",
      "AppointmentDay    110527 non-null object\n",
      "Age               110527 non-null int64\n",
      "Neighbourhood     110527 non-null object\n",
      "Scholarship       110527 non-null int64\n",
      "Hypertension      110527 non-null int64\n",
      "Diabetes          110527 non-null int64\n",
      "Alcoholism        110527 non-null int64\n",
      "Handicap          110527 non-null int64\n",
      "SMS_received      110527 non-null int64\n",
      "NoShow            110527 non-null object\n",
      "dtypes: float64(1), int64(8), object(5)\n",
      "memory usage: 11.8+ MB\n"
     ]
    }
   ],
   "source": [
    "data.info()"
   ]
  },
  {
   "cell_type": "markdown",
   "metadata": {},
   "source": [
    "Some of the columns will need to have their dtypes readjusted, but this is a simple fix."
   ]
  }
 ],
 "metadata": {
  "kernelspec": {
   "display_name": "conda_pytorch_p36",
   "language": "python",
   "name": "conda_pytorch_p36"
  },
  "language_info": {
   "codemirror_mode": {
    "name": "ipython",
    "version": 3
   },
   "file_extension": ".py",
   "mimetype": "text/x-python",
   "name": "python",
   "nbconvert_exporter": "python",
   "pygments_lexer": "ipython3",
   "version": "3.6.5"
  }
 },
 "nbformat": 4,
 "nbformat_minor": 4
}
