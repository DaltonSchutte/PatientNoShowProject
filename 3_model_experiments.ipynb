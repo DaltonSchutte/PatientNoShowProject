{
 "cells": [
  {
   "cell_type": "code",
   "execution_count": 1,
   "metadata": {},
   "outputs": [
    {
     "name": "stdout",
     "output_type": "stream",
     "text": [
      "Collecting hyperopt\n",
      "\u001b[?25l  Downloading https://files.pythonhosted.org/packages/90/d5/c7e276f4f7bc65ac26391c435245e5ef8911b4393e3df5a74906c48afeaf/hyperopt-0.2.4-py2.py3-none-any.whl (964kB)\n",
      "\u001b[K    100% |████████████████████████████████| 972kB 9.5MB/s ta 0:00:011\n",
      "\u001b[?25hRequirement already satisfied: tqdm in /home/ec2-user/anaconda3/envs/pytorch_p36/lib/python3.6/site-packages (from hyperopt) (4.42.1)\n",
      "Requirement already satisfied: scipy in /home/ec2-user/anaconda3/envs/pytorch_p36/lib/python3.6/site-packages (from hyperopt) (1.1.0)\n",
      "Collecting future (from hyperopt)\n",
      "\u001b[?25l  Downloading https://files.pythonhosted.org/packages/45/0b/38b06fd9b92dc2b68d58b75f900e97884c45bedd2ff83203d933cf5851c9/future-0.18.2.tar.gz (829kB)\n",
      "\u001b[K    100% |████████████████████████████████| 829kB 11.0MB/s ta 0:00:01\n",
      "\u001b[?25hRequirement already satisfied: six in /home/ec2-user/anaconda3/envs/pytorch_p36/lib/python3.6/site-packages (from hyperopt) (1.11.0)\n",
      "Requirement already satisfied: cloudpickle in /home/ec2-user/anaconda3/envs/pytorch_p36/lib/python3.6/site-packages (from hyperopt) (0.5.3)\n",
      "Collecting networkx>=2.2 (from hyperopt)\n",
      "\u001b[?25l  Downloading https://files.pythonhosted.org/packages/41/8f/dd6a8e85946def36e4f2c69c84219af0fa5e832b018c970e92f2ad337e45/networkx-2.4-py3-none-any.whl (1.6MB)\n",
      "\u001b[K    100% |████████████████████████████████| 1.6MB 12.6MB/s ta 0:00:01\n",
      "\u001b[?25hRequirement already satisfied: numpy in /home/ec2-user/anaconda3/envs/pytorch_p36/lib/python3.6/site-packages (from hyperopt) (1.15.4)\n",
      "Requirement already satisfied: decorator>=4.3.0 in /home/ec2-user/anaconda3/envs/pytorch_p36/lib/python3.6/site-packages (from networkx>=2.2->hyperopt) (4.3.0)\n",
      "Building wheels for collected packages: future\n",
      "  Running setup.py bdist_wheel for future ... \u001b[?25ldone\n",
      "\u001b[?25h  Stored in directory: /home/ec2-user/.cache/pip/wheels/8b/99/a0/81daf51dcd359a9377b110a8a886b3895921802d2fc1b2397e\n",
      "Successfully built future\n",
      "\u001b[31mfastai 1.0.60 requires nvidia-ml-py3, which is not installed.\u001b[0m\n",
      "Installing collected packages: future, networkx, hyperopt\n",
      "  Found existing installation: networkx 2.1\n",
      "    Uninstalling networkx-2.1:\n",
      "      Successfully uninstalled networkx-2.1\n",
      "Successfully installed future-0.18.2 hyperopt-0.2.4 networkx-2.4\n",
      "\u001b[33mYou are using pip version 10.0.1, however version 20.1b1 is available.\n",
      "You should consider upgrading via the 'pip install --upgrade pip' command.\u001b[0m\n"
     ]
    }
   ],
   "source": [
    "!pip3 install hyperopt"
   ]
  },
  {
   "cell_type": "code",
   "execution_count": 2,
   "metadata": {},
   "outputs": [
    {
     "name": "stdout",
     "output_type": "stream",
     "text": [
      "Collecting imblearn\n",
      "  Downloading https://files.pythonhosted.org/packages/81/a7/4179e6ebfd654bd0eac0b9c06125b8b4c96a9d0a8ff9e9507eb2a26d2d7e/imblearn-0.0-py2.py3-none-any.whl\n",
      "Collecting imbalanced-learn (from imblearn)\n",
      "\u001b[?25l  Downloading https://files.pythonhosted.org/packages/c8/73/36a13185c2acff44d601dc6107b5347e075561a49e15ddd4e69988414c3e/imbalanced_learn-0.6.2-py3-none-any.whl (163kB)\n",
      "\u001b[K    100% |████████████████████████████████| 163kB 6.9MB/s ta 0:00:01\n",
      "\u001b[?25hCollecting joblib>=0.11 (from imbalanced-learn->imblearn)\n",
      "\u001b[?25l  Downloading https://files.pythonhosted.org/packages/28/5c/cf6a2b65a321c4a209efcdf64c2689efae2cb62661f8f6f4bb28547cf1bf/joblib-0.14.1-py2.py3-none-any.whl (294kB)\n",
      "\u001b[K    100% |████████████████████████████████| 296kB 9.1MB/s eta 0:00:01\n",
      "\u001b[?25hRequirement already satisfied: numpy>=1.11 in /home/ec2-user/anaconda3/envs/pytorch_p36/lib/python3.6/site-packages (from imbalanced-learn->imblearn) (1.15.4)\n",
      "Collecting scikit-learn>=0.22 (from imbalanced-learn->imblearn)\n",
      "\u001b[?25l  Downloading https://files.pythonhosted.org/packages/5e/d8/312e03adf4c78663e17d802fe2440072376fee46cada1404f1727ed77a32/scikit_learn-0.22.2.post1-cp36-cp36m-manylinux1_x86_64.whl (7.1MB)\n",
      "\u001b[K    100% |████████████████████████████████| 7.1MB 6.7MB/s eta 0:00:01\n",
      "\u001b[?25hRequirement already satisfied: scipy>=0.17 in /home/ec2-user/anaconda3/envs/pytorch_p36/lib/python3.6/site-packages (from imbalanced-learn->imblearn) (1.1.0)\n",
      "\u001b[31mfastai 1.0.60 requires nvidia-ml-py3, which is not installed.\u001b[0m\n",
      "Installing collected packages: joblib, scikit-learn, imbalanced-learn, imblearn\n",
      "  Found existing installation: scikit-learn 0.20.3\n",
      "    Uninstalling scikit-learn-0.20.3:\n",
      "      Successfully uninstalled scikit-learn-0.20.3\n",
      "Successfully installed imbalanced-learn-0.6.2 imblearn-0.0 joblib-0.14.1 scikit-learn-0.22.2.post1\n",
      "\u001b[33mYou are using pip version 10.0.1, however version 20.1b1 is available.\n",
      "You should consider upgrading via the 'pip install --upgrade pip' command.\u001b[0m\n"
     ]
    }
   ],
   "source": [
    "!pip3 install imblearn"
   ]
  },
  {
   "cell_type": "code",
   "execution_count": 3,
   "metadata": {},
   "outputs": [
    {
     "name": "stdout",
     "output_type": "stream",
     "text": [
      "Collecting seaborn==0.10\n",
      "\u001b[?25l  Downloading https://files.pythonhosted.org/packages/70/bd/5e6bf595fe6ee0f257ae49336dd180768c1ed3d7c7155b2fdf894c1c808a/seaborn-0.10.0-py3-none-any.whl (215kB)\n",
      "\u001b[K    100% |████████████████████████████████| 225kB 871kB/s ta 0:00:011\n",
      "\u001b[?25hRequirement already satisfied: numpy>=1.13.3 in /home/ec2-user/anaconda3/envs/pytorch_p36/lib/python3.6/site-packages (from seaborn==0.10) (1.15.4)\n",
      "Requirement already satisfied: matplotlib>=2.1.2 in /home/ec2-user/anaconda3/envs/pytorch_p36/lib/python3.6/site-packages (from seaborn==0.10) (3.0.3)\n",
      "Requirement already satisfied: scipy>=1.0.1 in /home/ec2-user/anaconda3/envs/pytorch_p36/lib/python3.6/site-packages (from seaborn==0.10) (1.1.0)\n",
      "Requirement already satisfied: pandas>=0.22.0 in /home/ec2-user/anaconda3/envs/pytorch_p36/lib/python3.6/site-packages (from seaborn==0.10) (0.24.2)\n",
      "Requirement already satisfied: cycler>=0.10 in /home/ec2-user/anaconda3/envs/pytorch_p36/lib/python3.6/site-packages (from matplotlib>=2.1.2->seaborn==0.10) (0.10.0)\n",
      "Requirement already satisfied: kiwisolver>=1.0.1 in /home/ec2-user/anaconda3/envs/pytorch_p36/lib/python3.6/site-packages (from matplotlib>=2.1.2->seaborn==0.10) (1.0.1)\n",
      "Requirement already satisfied: pyparsing!=2.0.4,!=2.1.2,!=2.1.6,>=2.0.1 in /home/ec2-user/anaconda3/envs/pytorch_p36/lib/python3.6/site-packages (from matplotlib>=2.1.2->seaborn==0.10) (2.2.0)\n",
      "Requirement already satisfied: python-dateutil>=2.1 in /home/ec2-user/anaconda3/envs/pytorch_p36/lib/python3.6/site-packages (from matplotlib>=2.1.2->seaborn==0.10) (2.7.3)\n",
      "Requirement already satisfied: pytz>=2011k in /home/ec2-user/anaconda3/envs/pytorch_p36/lib/python3.6/site-packages (from pandas>=0.22.0->seaborn==0.10) (2018.4)\n",
      "Requirement already satisfied: six in /home/ec2-user/anaconda3/envs/pytorch_p36/lib/python3.6/site-packages (from cycler>=0.10->matplotlib>=2.1.2->seaborn==0.10) (1.11.0)\n",
      "Requirement already satisfied: setuptools in /home/ec2-user/anaconda3/envs/pytorch_p36/lib/python3.6/site-packages (from kiwisolver>=1.0.1->matplotlib>=2.1.2->seaborn==0.10) (39.1.0)\n",
      "\u001b[31mfastai 1.0.60 requires nvidia-ml-py3, which is not installed.\u001b[0m\n",
      "Installing collected packages: seaborn\n",
      "  Found existing installation: seaborn 0.8.1\n",
      "    Uninstalling seaborn-0.8.1:\n",
      "      Successfully uninstalled seaborn-0.8.1\n",
      "Successfully installed seaborn-0.10.0\n",
      "\u001b[33mYou are using pip version 10.0.1, however version 20.1b1 is available.\n",
      "You should consider upgrading via the 'pip install --upgrade pip' command.\u001b[0m\n"
     ]
    }
   ],
   "source": [
    "!pip3 install seaborn==0.10"
   ]
  },
  {
   "cell_type": "code",
   "execution_count": 4,
   "metadata": {},
   "outputs": [],
   "source": [
    "import math\n",
    "import warnings\n",
    "from datetime import datetime\n",
    "from collections import OrderedDict\n",
    "from io import BytesIO\n",
    "\n",
    "import test as T\n",
    "\n",
    "import numpy as np\n",
    "import pandas as pd\n",
    "import matplotlib.pyplot as plt\n",
    "import seaborn as sns\n",
    "\n",
    "from imblearn.combine import SMOTEENN\n",
    "\n",
    "from sklearn.model_selection import train_test_split, RandomizedSearchCV\n",
    "from sklearn.linear_model import SGDClassifier, ElasticNet, LogisticRegression\n",
    "from sklearn.naive_bayes import GaussianNB\n",
    "from sklearn.ensemble import RandomForestClassifier, GradientBoostingClassifier\n",
    "from sklearn.svm import LinearSVC\n",
    "from sklearn.neighbors import KNeighborsClassifier, NearestCentroid\n",
    "from sklearn.metrics import roc_auc_score\n",
    "\n",
    "import torch\n",
    "import torch.nn as nn\n",
    "import torch.nn.functional as F\n",
    "import torch.optim as optim\n",
    "import torch.utils as utils\n",
    "\n",
    "from hyperopt import hp, tpe, fmin\n",
    "\n",
    "import boto3\n",
    "\n",
    "warnings.filterwarnings(\"ignore\")\n",
    "%matplotlib inline"
   ]
  },
  {
   "cell_type": "code",
   "execution_count": 5,
   "metadata": {},
   "outputs": [
    {
     "data": {
      "text/plain": [
       "<torch._C.Generator at 0x7f9ce29b3db0>"
      ]
     },
     "execution_count": 5,
     "metadata": {},
     "output_type": "execute_result"
    }
   ],
   "source": [
    "#Set numpy seed\n",
    "SEED = 314\n",
    "np.random.seed(SEED)\n",
    "torch.manual_seed(SEED)"
   ]
  },
  {
   "cell_type": "code",
   "execution_count": 6,
   "metadata": {},
   "outputs": [],
   "source": [
    "BUCKET = \"mlend-capstone\"\n",
    "FILENAME = \"engineered_data.csv\" #Preprocessed data from the previous notebook"
   ]
  },
  {
   "cell_type": "code",
   "execution_count": 7,
   "metadata": {},
   "outputs": [
    {
     "data": {
      "text/html": [
       "<div>\n",
       "<style scoped>\n",
       "    .dataframe tbody tr th:only-of-type {\n",
       "        vertical-align: middle;\n",
       "    }\n",
       "\n",
       "    .dataframe tbody tr th {\n",
       "        vertical-align: top;\n",
       "    }\n",
       "\n",
       "    .dataframe thead th {\n",
       "        text-align: right;\n",
       "    }\n",
       "</style>\n",
       "<table border=\"1\" class=\"dataframe\">\n",
       "  <thead>\n",
       "    <tr style=\"text-align: right;\">\n",
       "      <th></th>\n",
       "      <th>Age</th>\n",
       "      <th>prev_visits</th>\n",
       "      <th>prev_noshows</th>\n",
       "      <th>pct_noshows</th>\n",
       "      <th>days_wait</th>\n",
       "      <th>Scholarship</th>\n",
       "      <th>Hypertension</th>\n",
       "      <th>Diabetes</th>\n",
       "      <th>Alcoholism</th>\n",
       "      <th>Handicap</th>\n",
       "      <th>SMS_received</th>\n",
       "      <th>appt_day</th>\n",
       "      <th>NoShow</th>\n",
       "    </tr>\n",
       "  </thead>\n",
       "  <tbody>\n",
       "    <tr>\n",
       "      <th>110522</th>\n",
       "      <td>0.818306</td>\n",
       "      <td>-0.234780</td>\n",
       "      <td>0.320478</td>\n",
       "      <td>0.949247</td>\n",
       "      <td>-1.626773</td>\n",
       "      <td>0</td>\n",
       "      <td>0</td>\n",
       "      <td>0</td>\n",
       "      <td>0</td>\n",
       "      <td>0</td>\n",
       "      <td>1</td>\n",
       "      <td>1</td>\n",
       "      <td>0</td>\n",
       "    </tr>\n",
       "    <tr>\n",
       "      <th>110523</th>\n",
       "      <td>0.601950</td>\n",
       "      <td>0.070005</td>\n",
       "      <td>0.320478</td>\n",
       "      <td>0.153079</td>\n",
       "      <td>-1.626773</td>\n",
       "      <td>0</td>\n",
       "      <td>0</td>\n",
       "      <td>0</td>\n",
       "      <td>0</td>\n",
       "      <td>0</td>\n",
       "      <td>1</td>\n",
       "      <td>1</td>\n",
       "      <td>0</td>\n",
       "    </tr>\n",
       "    <tr>\n",
       "      <th>110524</th>\n",
       "      <td>-0.696184</td>\n",
       "      <td>-0.387172</td>\n",
       "      <td>-0.552273</td>\n",
       "      <td>-0.643089</td>\n",
       "      <td>-2.020088</td>\n",
       "      <td>0</td>\n",
       "      <td>0</td>\n",
       "      <td>0</td>\n",
       "      <td>0</td>\n",
       "      <td>0</td>\n",
       "      <td>1</td>\n",
       "      <td>1</td>\n",
       "      <td>0</td>\n",
       "    </tr>\n",
       "    <tr>\n",
       "      <th>110525</th>\n",
       "      <td>0.039425</td>\n",
       "      <td>-0.234780</td>\n",
       "      <td>-0.552273</td>\n",
       "      <td>-0.643089</td>\n",
       "      <td>-2.020088</td>\n",
       "      <td>0</td>\n",
       "      <td>0</td>\n",
       "      <td>0</td>\n",
       "      <td>0</td>\n",
       "      <td>0</td>\n",
       "      <td>1</td>\n",
       "      <td>1</td>\n",
       "      <td>0</td>\n",
       "    </tr>\n",
       "    <tr>\n",
       "      <th>110526</th>\n",
       "      <td>0.731763</td>\n",
       "      <td>-0.234780</td>\n",
       "      <td>-0.552273</td>\n",
       "      <td>-0.643089</td>\n",
       "      <td>-2.020088</td>\n",
       "      <td>0</td>\n",
       "      <td>0</td>\n",
       "      <td>0</td>\n",
       "      <td>0</td>\n",
       "      <td>0</td>\n",
       "      <td>1</td>\n",
       "      <td>1</td>\n",
       "      <td>0</td>\n",
       "    </tr>\n",
       "  </tbody>\n",
       "</table>\n",
       "</div>"
      ],
      "text/plain": [
       "             Age  prev_visits  prev_noshows  pct_noshows  days_wait  \\\n",
       "110522  0.818306    -0.234780      0.320478     0.949247  -1.626773   \n",
       "110523  0.601950     0.070005      0.320478     0.153079  -1.626773   \n",
       "110524 -0.696184    -0.387172     -0.552273    -0.643089  -2.020088   \n",
       "110525  0.039425    -0.234780     -0.552273    -0.643089  -2.020088   \n",
       "110526  0.731763    -0.234780     -0.552273    -0.643089  -2.020088   \n",
       "\n",
       "        Scholarship  Hypertension  Diabetes  Alcoholism  Handicap  \\\n",
       "110522            0             0         0           0         0   \n",
       "110523            0             0         0           0         0   \n",
       "110524            0             0         0           0         0   \n",
       "110525            0             0         0           0         0   \n",
       "110526            0             0         0           0         0   \n",
       "\n",
       "        SMS_received  appt_day  NoShow  \n",
       "110522             1         1       0  \n",
       "110523             1         1       0  \n",
       "110524             1         1       0  \n",
       "110525             1         1       0  \n",
       "110526             1         1       0  "
      ]
     },
     "execution_count": 7,
     "metadata": {},
     "output_type": "execute_result"
    }
   ],
   "source": [
    "obj = boto3.client('s3').get_object(Bucket=BUCKET, Key='engineered_data.csv')\n",
    "data = pd.read_csv(BytesIO(obj['Body'].read()), index_col=False)\n",
    "\n",
    "data.tail()"
   ]
  },
  {
   "cell_type": "code",
   "execution_count": 8,
   "metadata": {},
   "outputs": [
    {
     "name": "stdout",
     "output_type": "stream",
     "text": [
      "<class 'pandas.core.frame.DataFrame'>\n",
      "RangeIndex: 110527 entries, 0 to 110526\n",
      "Data columns (total 13 columns):\n",
      "Age             110527 non-null float64\n",
      "prev_visits     110527 non-null float64\n",
      "prev_noshows    110527 non-null float64\n",
      "pct_noshows     110527 non-null float64\n",
      "days_wait       110527 non-null float64\n",
      "Scholarship     110527 non-null int64\n",
      "Hypertension    110527 non-null int64\n",
      "Diabetes        110527 non-null int64\n",
      "Alcoholism      110527 non-null int64\n",
      "Handicap        110527 non-null int64\n",
      "SMS_received    110527 non-null int64\n",
      "appt_day        110527 non-null int64\n",
      "NoShow          110527 non-null int64\n",
      "dtypes: float64(5), int64(8)\n",
      "memory usage: 11.0 MB\n"
     ]
    }
   ],
   "source": [
    "data.info()"
   ]
  },
  {
   "cell_type": "code",
   "execution_count": 9,
   "metadata": {},
   "outputs": [
    {
     "name": "stdout",
     "output_type": "stream",
     "text": [
      "<class 'pandas.core.frame.DataFrame'>\n",
      "RangeIndex: 110527 entries, 0 to 110526\n",
      "Data columns (total 13 columns):\n",
      "Age             110527 non-null float64\n",
      "prev_visits     110527 non-null float64\n",
      "prev_noshows    110527 non-null float64\n",
      "pct_noshows     110527 non-null float64\n",
      "days_wait       110527 non-null float64\n",
      "Scholarship     110527 non-null category\n",
      "Hypertension    110527 non-null category\n",
      "Diabetes        110527 non-null category\n",
      "Alcoholism      110527 non-null category\n",
      "Handicap        110527 non-null category\n",
      "SMS_received    110527 non-null category\n",
      "appt_day        110527 non-null category\n",
      "NoShow          110527 non-null int64\n",
      "dtypes: category(7), float64(5), int64(1)\n",
      "memory usage: 5.8 MB\n"
     ]
    }
   ],
   "source": [
    "#Change some of the in64 columns to category columns\n",
    "cat_cols = ['Scholarship', 'Hypertension', 'Diabetes', \n",
    "            'Alcoholism', 'Handicap', 'SMS_received', 'appt_day']\n",
    "\n",
    "data[cat_cols] = data[cat_cols].astype('category')\n",
    "data.info()"
   ]
  },
  {
   "cell_type": "markdown",
   "metadata": {},
   "source": [
    "# Functions and Classes\n",
    "\n",
    "Here we define several functions and classes that will be needed to conduct the experiments"
   ]
  },
  {
   "cell_type": "code",
   "execution_count": 10,
   "metadata": {},
   "outputs": [],
   "source": [
    "def get_col_info(df):\n",
    "    \"\"\"\n",
    "    Get lists of column names for continuous and categorical columns as well\n",
    "    as the embedding sizes for categorical columns\n",
    "        ARGS:\n",
    "            df(DataFrame): dataframe of samples (no label column)\n",
    "        RETURN:\n",
    "            two lists of column names and one list of \n",
    "                tuples (# categoris, embedding dimension)\n",
    "    \"\"\"\n",
    "    embedding_columns = {n: len(col.cat.categories) for n,col in df.items() \\\n",
    "                         if (isinstance(col.dtype,pd.core.dtypes.dtypes.CategoricalDtype))}\n",
    "\n",
    "    embedding_col_names = list(embedding_columns.keys())\n",
    "\n",
    "    embedding_sizes = [(n_categories, min(50, (n_categories+1)//2)) \\\n",
    "                       for _,n_categories in embedding_columns.items()]\n",
    "\n",
    "    cont_col_names = [col for col in df.columns if col not in embedding_col_names]\n",
    "    \n",
    "    return embedding_col_names, embedding_sizes, cont_col_names\n",
    "\n",
    "\n",
    "def conic_layer_widths(num_layers, starting_width, output_size):\n",
    "    \"\"\"\n",
    "    Determines a geometric progression for layer widths if the model\n",
    "    architecture is conic\n",
    "        ARGS:\n",
    "            num_layers(int):= number of hidden layers (depth of network)\n",
    "            starting_width(int):= number of neurons in the first hidden\n",
    "                layer\n",
    "            output_size(int):= dimension of the output tensor\n",
    "        RETURN:\n",
    "            list of integer layer depths\n",
    "    \"\"\"\n",
    "    widths = np.zeros(shape=num_layers, dtype=np.int)\n",
    "    ratio = (starting_width / output_size) ** (1/float(num_layers))\n",
    "    \n",
    "    for i in range(num_layers):\n",
    "        widths[i] = int(starting_width * (ratio ** -i))\n",
    "        \n",
    "    return list(widths)\n",
    "\n",
    "\n",
    "def init_weights(param):\n",
    "    \"\"\"\n",
    "    Initializes the weights of the network using weights drawn on a\n",
    "    normal distribution with mean 0 and stdev 1/sqrt(#output features)\n",
    "        ARGS:\n",
    "            param:= weight tensor for Linear layers\n",
    "        RETURN:\n",
    "            None\n",
    "    \"\"\"\n",
    "    if type(param) == nn.Linear:\n",
    "        torch.nn.init.normal_(param.weight, 0.0, 1/math.sqrt(param.out_features))\n",
    "        param.bias.data.fill_(0.0)\n",
    "\n",
    "\n",
    "class TabDataset(utils.data.Dataset):\n",
    "    \"\"\"Dataset for tabular data with continuous and categorical variables\"\"\"\n",
    "    def __init__(self, X, y, embedding_cols):\n",
    "        \"\"\"\n",
    "        Initializes the TabDataset object\n",
    "            ARGS:\n",
    "                X(DataFrame): dataframe of samples\n",
    "                y(array-like): array-like object of labels\n",
    "                embedding_cols: list of column names with categorical variables\n",
    "        \"\"\"\n",
    "        X = X.copy()\n",
    "        self.X_embed = X.loc[:,embedding_cols].astype(np.int64)\n",
    "        self.X_cont = X.drop(columns=embedding_cols).astype(np.float32)\n",
    "        self.y = pd.DataFrame(y, index=X.index).astype(np.float32)\n",
    "        \n",
    "    def __len__(self):\n",
    "        return len(self.y)\n",
    "    \n",
    "    def __getitem__(self, idx):\n",
    "        return self.X_embed.iloc[idx].values, self.X_cont.iloc[idx].values, self.y.iloc[idx].values\n",
    "    \n",
    "\n",
    "class NoShowModel(nn.Module):\n",
    "    \"\"\"Self-Normalizing Network\"\"\"\n",
    "    \"\"\"https://arxiv.org/abs/1706.02515\"\"\"\n",
    "    def __init__(self, embed_sizes, num_cont, \n",
    "                 first_layer_size, output_layer_size,\n",
    "                 network_shape, num_layers,\n",
    "                 drops={'emb':0.05,'cont':0.03}):\n",
    "        \"\"\"\n",
    "        Initializes a SNN with specified architecture.\n",
    "            ARGS:\n",
    "                embed_sizes(list of tuples):= list of (# categories, embed dim) for\n",
    "                    categorical variables\n",
    "                num_cont(int):= number of continuous variables\n",
    "                first_layer_size(int):= width of the first hidden layer\n",
    "                output_layer_size(int):= dimension of the output tensor\n",
    "                network_shape(['rect', conic]):= specifies the shape of the \n",
    "                    fully-connectedhidden layers\n",
    "                num_layers(int):= number of fully-connected hidden layers\n",
    "                drops(dict):= specifies the dropout probability for the embedding layers\n",
    "                    and the continuous layers (continuous applies to fully-connected\n",
    "                    layers in the main hidden block)\n",
    "        \"\"\"\n",
    "        super().__init__()\n",
    "        assert network_shape in ['rect', 'conic']\n",
    "        self.embeddings = nn.ModuleList([nn.Embedding(categories, size) for categories, size in embed_sizes])\n",
    "        self.num_embed_feats = sum(emb.embedding_dim for emb in self.embeddings)\n",
    "        self.num_cont = num_cont\n",
    "        \n",
    "        self.bn_cont = nn.BatchNorm1d(self.num_cont)\n",
    "        self.bn_emb = nn.BatchNorm1d(self.num_embed_feats)\n",
    "        \n",
    "        self.emb_drop = nn.Dropout(drops['emb'])\n",
    "        self.fc_drop = nn.Dropout(drops['cont'])\n",
    "        \n",
    "        #Construct fully-connected body\n",
    "        self.fc_dict = OrderedDict()\n",
    "        \n",
    "        if network_shape == 'rect':\n",
    "            self.layer_widths = [first_layer_size for i in range(num_layers)]\n",
    "        elif network_shape == 'conic':\n",
    "            self.layer_widths = conic_layer_widths(num_layers, first_layer_size, output_layer_size)\n",
    "            \n",
    "        #Adds layer to connect head to fc body\n",
    "        fc = {f'linear{0}':nn.Linear(self.num_embed_feats+self.num_cont, first_layer_size)}\n",
    "        bn = {f'b_norm{0}':nn.BatchNorm1d(first_layer_size)}\n",
    "        do = {f'dropout{0}':nn.Dropout(drops['cont'])}\n",
    "        al = {f'selu{0}':nn.SELU()}\n",
    "        block = [fc,bn,do,al]\n",
    "        for layer in block:\n",
    "            self.fc_dict.update(layer)\n",
    "        \n",
    "        #Create rest of fc body\n",
    "        for i, width in enumerate(self.layer_widths):\n",
    "            if i != (num_layers-1):\n",
    "                fc = {f'linear{i+1}':nn.Linear(width, self.layer_widths[i+1])}\n",
    "                bn = {f'b_norm{i+1}':nn.BatchNorm1d(self.layer_widths[i+1])}\n",
    "                do = {f'dropout{i+1}':nn.Dropout(drops['cont'])}\n",
    "                al = {f'selu{i+1}':nn.SELU()}\n",
    "                block = [fc,bn,do,al]\n",
    "                for layer in block:\n",
    "                    self.fc_dict.update(layer)\n",
    "            elif i == (num_layers-1): #Special case for last layer where activation is not applied\n",
    "                fc = {f'linear{i+1}':nn.Linear(width, output_layer_size)}\n",
    "                bn = {f'b_norm{i+1}':nn.BatchNorm1d(output_layer_size)}\n",
    "                do = {f'dropout{i+1}':nn.Dropout(drops['cont'])}\n",
    "                block = [fc,bn,do]\n",
    "                for layer in block:\n",
    "                    self.fc_dict.update(layer)\n",
    "            \n",
    "        \n",
    "        self.fc_body = nn.Sequential(self.fc_dict)\n",
    "        \n",
    "    def forward(self, x_cat, x_cont):\n",
    "        x_emb = [e(x_cat[:,i]) for i,e in enumerate(self.embeddings)]\n",
    "        x_emb = torch.cat(x_emb, 1)\n",
    "        x_emb = self.emb_drop(self.bn_emb(x_emb))\n",
    "        x_cont = self.bn_cont(x_cont)\n",
    "        x = torch.cat([x_emb, x_cont], 1)\n",
    "        out = self.fc_body(x)\n",
    "        \n",
    "        return out\n",
    "    "
   ]
  },
  {
   "cell_type": "code",
   "execution_count": 11,
   "metadata": {},
   "outputs": [],
   "source": [
    "#For sklearn models\n",
    "def balance_data(X, y, seed):\n",
    "    \"\"\"\n",
    "    Performs SMOTE follwed by Edited Nearest Neighbors to balance the dataset.\n",
    "        ARGS:\n",
    "            X(DataFrame):= dataframe of samples\n",
    "            y(Series):= series of corresponding labels\n",
    "            seed(int):= random seed for reproducability\n",
    "        RETURN:\n",
    "            resampled dataset and samples\n",
    "    \"\"\"\n",
    "    smote_enn = SMOTEENN(random_state=seed)\n",
    "    X_resamp, y_resamp = smote_enn.fit_resample(X, y)\n",
    "    return X_resamp, y_resamp\n",
    "\n",
    "\n",
    "def data_pipeline(X, y, test_prop, seed, snn=False):\n",
    "    \"\"\"\n",
    "    Pipeline to balance the data and split into train and test sets in \n",
    "    preparation for model training.\n",
    "        ARGS:\n",
    "            X(DataFrame):= dataframe of samples\n",
    "            y(Series):= series of corresponding labels\n",
    "            test_prop(0<float<1):= proportion of the total dataset that\n",
    "                will become the test set\n",
    "            seed(int):= random seed for reproducability\n",
    "            snn(bool):= the data is being prepared for a snn model\n",
    "        RETURN:\n",
    "            if not snn:\n",
    "                resampled and split train and test, sample and label sets\n",
    "                packaged in a dictionary\n",
    "            if snn:\n",
    "                resampled and split train and test dataloaders packaged in a\n",
    "                dictionary\n",
    "    \"\"\"\n",
    "    X_resamp, y_resamp = balance_data(X, y, seed)\n",
    "    X_train, X_test, y_train, y_test = train_test_split(X_resamp, y_resamp, \n",
    "                                                        test_size=test_prop,\n",
    "                                                        random_state=seed\n",
    "                                                       )\n",
    "    datasets = {'X_train': X_train,\n",
    "                'X_test': X_test,\n",
    "                'y_train': y_train,\n",
    "                'y_test': y_test\n",
    "               }\n",
    "    \n",
    "    return datasets\n",
    "\n",
    "\n",
    "def prepare_model(model_type, model_args):\n",
    "    \"\"\"\n",
    "    Instantiates a model of the specified model type with the specified \n",
    "    arguments\n",
    "        ARGS:\n",
    "            model_type:= sklearn model\n",
    "            model_args:= dict of model arguments\n",
    "        RETURN:\n",
    "            instance of the model type\n",
    "    \"\"\"\n",
    "    model = model_type(**model_args)\n",
    "    return model\n",
    "\n",
    "\n",
    "def train_eval(model, data, metric):\n",
    "    \"\"\"\n",
    "    Trains and evaluates a sklearn model and scores its performance\n",
    "        ARGS:\n",
    "            model:= sklearn model instance\n",
    "            data(dict):= dictionary containing X_train, X_test, y_train, \n",
    "                and y_test\n",
    "            metric:= sklearn score function\n",
    "        RETURN:\n",
    "            score of the trained model\n",
    "    \"\"\"\n",
    "    model.fit(data['X_train'], data['y_train'])\n",
    "    preds = model.predict(data['X_test'])\n",
    "    score = metric(data['y_test'], preds)\n",
    "    \n",
    "    return score\n",
    "\n",
    "\n",
    "def single_experiment(X, y, model_type, metric,\n",
    "                      test_prop, seed, model_args):\n",
    "    \"\"\"\n",
    "    Conducts a single experiment from data resampling, data splitting, \n",
    "    model training, and model evaluation\n",
    "        ARGS:\n",
    "            X(DataFrame):= dataframe of samples\n",
    "            y(Series):= series of corresponding labels\n",
    "            model_type:= sklearn model\n",
    "            metric:= sklearn score function\n",
    "            test_prop(0<float<1):= proportion of the total dataset that\n",
    "                will become the test set\n",
    "            seed(int):= random seed for reproducability\n",
    "            model_args:= dict of model arguments\n",
    "        RETURN:\n",
    "            score of the trained model\n",
    "    \"\"\"\n",
    "    data = data_pipeline(X, y, test_prop, seed)\n",
    "    model = prepare_model(model_type, model_args)\n",
    "    score = train_eval(model, data, metric)\n",
    "    \n",
    "    return score\n",
    "\n",
    "\n",
    "def show_experiment_results(scores):\n",
    "    \"\"\"\n",
    "    Displays a scatter plot of the scores, a distribution, and a box plot\n",
    "    of the score distributions as well as summary statistics of the scores\n",
    "        ARGS:\n",
    "            scores(array):= array of scores\n",
    "    \"\"\"\n",
    "    #Scatter plot\n",
    "    fig, ax1 = plt.subplots(figsize=(6, 3), ncols=1)\n",
    "    ax1.set_title(\"Experiment Scores\")\n",
    "    ax1.set_xlabel(\"Experiment\")\n",
    "    ax1.set_ylabel(\"Score\")\n",
    "    plt.bar(np.arange(len(scores)), scores)\n",
    "    plt.show()\n",
    "    \n",
    "    #Violin and Box Plot\n",
    "    fig, (ax1, ax2) = plt.subplots(figsize=(6, 3), ncols=2, sharey=False)\n",
    "    ax1.set_title(\"Score Distribution\")\n",
    "    ax2.set_title(\"Score Box Plot\")\n",
    "    sns.distplot(scores, norm_hist=True, ax=ax1)\n",
    "    sns.boxplot(scores, ax=ax2)\n",
    "    plt.show()\n",
    "    \n",
    "    #Summary statistics\n",
    "    print(\"=== Statistics ===\")\n",
    "    print(\"Mean: \", round(scores.mean(),4))\n",
    "    print(\"Median: \", round(np.median(scores),4))\n",
    "    print(\"Standard Dev: \", round(scores.std(),4))\n",
    "    print(\"Range: \", (round(scores.min(),4), round(scores.max(),4)))\n",
    "    \n",
    "\n",
    "\n",
    "def run_experiments(seeds, X, y, model_type, metric, test_prop, model_args={}, verbose=True, viz=True):\n",
    "    \"\"\"\n",
    "    Runs n experiments using the provided data for a single model type.\n",
    "        ARGS:\n",
    "            seeds(list/array of ints):= random seeds to use for \n",
    "                len(list/array) number of experiments\n",
    "            X(DataFrame):= dataframe of samples\n",
    "            y(Series):= series of corresponding labels\n",
    "            model_type:= sklearn model\n",
    "            metric:= sklearn score function\n",
    "            test_prop(0<float<1):= proportion of the total dataset that\n",
    "                will become the test set\n",
    "            seed(int):= random seed for reproducability\n",
    "            model_args:= dict of model arguments\n",
    "            verbose(bool):= print experiment results\n",
    "            viz(bool):= plot visuals and summary statistics\n",
    "        RETURN:\n",
    "            numpy array containing scores\n",
    "    \"\"\"\n",
    "    scores = []\n",
    "    \n",
    "    for i,seed in enumerate(seeds):\n",
    "        if verbose:\n",
    "            print(f\"Running experiment {i+1}\")\n",
    "        score = single_experiment(X, y, model_type, metric,\n",
    "                                  test_prop, seed, model_args)\n",
    "        scores.append(score)\n",
    "        if verbose:\n",
    "            print(f\"Completed experiment. Score: {score}\")\n",
    "        \n",
    "    scores = np.array(scores)\n",
    "    \n",
    "    if viz:\n",
    "        show_experiment_results(scores)\n",
    "    \n",
    "    return scores\n",
    "    "
   ]
  },
  {
   "cell_type": "code",
   "execution_count": 12,
   "metadata": {},
   "outputs": [
    {
     "name": "stdout",
     "output_type": "stream",
     "text": [
      "[764 277 515 305 108 392 905]\n",
      "Params:  (123, 987)\n",
      "Fit called properly\n",
      "Params:  (123, 987)\n",
      "Fit called properly\n",
      "Params:  (123, 987)\n",
      "Fit called properly\n",
      "Params:  (123, 987)\n",
      "Fit called properly\n",
      "Params:  (123, 987)\n",
      "Fit called properly\n",
      "Params:  (123, 987)\n",
      "Fit called properly\n",
      "Params:  (123, 987)\n",
      "Fit called properly\n"
     ]
    },
    {
     "data": {
      "image/png": "[encoded data removed]",
      "text/plain": [
       "<Figure size 432x216 with 1 Axes>"
      ]
     },
     "metadata": {},
     "output_type": "display_data"
    },
    {
     "data": {
      "image/png": "[encoded data removed]",
      "text/plain": [
       "<Figure size 432x216 with 2 Axes>"
      ]
     },
     "metadata": {},
     "output_type": "display_data"
    },
    {
     "name": "stdout",
     "output_type": "stream",
     "text": [
      "=== Statistics ===\n",
      "Mean:  0.5817\n",
      "Median:  0.6136\n",
      "Standard Dev:  0.0705\n",
      "Range:  (0.4896, 0.6771)\n"
     ]
    }
   ],
   "source": [
    "#Test sklearn experiment set up\n",
    "seeds = np.random.choice(np.arange(1000), size=(7), replace=False)\n",
    "print(seeds)\n",
    "X = pd.DataFrame(np.random.normal(0.0, 1.0, size=(100,4)))\n",
    "y = pd.Series(np.random.choice([0,1], size=(100), p=[0.3,0.7]))\n",
    "arg_dict = {'arg1': 123, 'arg2': 987}\n",
    "\n",
    "scores = run_experiments(seeds, X, y, T.TestModel, roc_auc_score, 0.3, arg_dict, False, True)"
   ]
  },
  {
   "cell_type": "markdown",
   "metadata": {},
   "source": [
    "# Global Seeds"
   ]
  },
  {
   "cell_type": "code",
   "execution_count": 13,
   "metadata": {},
   "outputs": [
    {
     "name": "stdout",
     "output_type": "stream",
     "text": [
      "[738 408 125 397 310 435 853]\n"
     ]
    }
   ],
   "source": [
    "SEEDS = np.random.choice(np.arange(0,1000), size=(7), replace=False)\n",
    "print(SEEDS)"
   ]
  },
  {
   "cell_type": "markdown",
   "metadata": {},
   "source": [
    "# sklearn Model Experiments"
   ]
  },
  {
   "cell_type": "code",
   "execution_count": 14,
   "metadata": {},
   "outputs": [
    {
     "data": {
      "text/plain": [
       "22105"
      ]
     },
     "execution_count": 14,
     "metadata": {},
     "output_type": "execute_result"
    }
   ],
   "source": [
    "#We will run these experiments on a subset of the dataset, \n",
    "#then evaluate the top 3 models on the entire dataset\n",
    "\n",
    "data_sub = data.sample(frac=0.2, replace = False)\n",
    "len(data_sub)"
   ]
  },
  {
   "cell_type": "code",
   "execution_count": 15,
   "metadata": {},
   "outputs": [],
   "source": [
    "X_sub = data_sub.drop(columns=[\"NoShow\"])\n",
    "y_sub = data_sub.NoShow"
   ]
  },
  {
   "cell_type": "code",
   "execution_count": 16,
   "metadata": {},
   "outputs": [],
   "source": [
    "sklearn_models = {'SGD': [SGDClassifier], \n",
    "                  'Elastic': [ElasticNet], \n",
    "                  'LogReg': [LogisticRegression], \n",
    "                  'GNB': [GaussianNB], \n",
    "                  'RF': [RandomForestClassifier], \n",
    "                  'GBM': [GradientBoostingClassifier], \n",
    "                  'LinSVC': [LinearSVC],\n",
    "                  'kNN': [KNeighborsClassifier], \n",
    "                  'Centroid': [NearestCentroid]\n",
    "                 }"
   ]
  },
  {
   "cell_type": "code",
   "execution_count": 17,
   "metadata": {
    "scrolled": false
   },
   "outputs": [
    {
     "name": "stdout",
     "output_type": "stream",
     "text": [
      "Running SGD experiment...\n",
      "\n"
     ]
    },
    {
     "data": {
      "image/png": "[encoded data removed]",
      "text/plain": [
       "<Figure size 432x216 with 1 Axes>"
      ]
     },
     "metadata": {},
     "output_type": "display_data"
    },
    {
     "data": {
      "image/png": "[encoded data removed]",
      "text/plain": [
       "<Figure size 432x216 with 2 Axes>"
      ]
     },
     "metadata": {},
     "output_type": "display_data"
    },
    {
     "name": "stdout",
     "output_type": "stream",
     "text": [
      "=== Statistics ===\n",
      "Mean:  0.557\n",
      "Median:  0.5625\n",
      "Standard Dev:  0.0791\n",
      "Range:  (0.4583, 0.6688)\n",
      "\t===\t===\t===\t===\t===\n",
      "\n",
      "Running Elastic experiment...\n",
      "\n"
     ]
    },
    {
     "data": {
      "image/png": "[encoded data removed]",
      "text/plain": [
       "<Figure size 432x216 with 1 Axes>"
      ]
     },
     "metadata": {},
     "output_type": "display_data"
    },
    {
     "data": {
      "image/png": "[encoded data removed]",
      "text/plain": [
       "<Figure size 432x216 with 2 Axes>"
      ]
     },
     "metadata": {},
     "output_type": "display_data"
    },
    {
     "name": "stdout",
     "output_type": "stream",
     "text": [
      "=== Statistics ===\n",
      "Mean:  0.5\n",
      "Median:  0.5\n",
      "Standard Dev:  0.0\n",
      "Range:  (0.5, 0.5)\n",
      "\t===\t===\t===\t===\t===\n",
      "\n",
      "Running LogReg experiment...\n",
      "\n"
     ]
    },
    {
     "data": {
      "image/png": "[encoded data removed]",
      "text/plain": [
       "<Figure size 432x216 with 1 Axes>"
      ]
     },
     "metadata": {},
     "output_type": "display_data"
    },
    {
     "data": {
      "image/png": "[encoded data removed]",
      "text/plain": [
       "<Figure size 432x216 with 2 Axes>"
      ]
     },
     "metadata": {},
     "output_type": "display_data"
    },
    {
     "name": "stdout",
     "output_type": "stream",
     "text": [
      "=== Statistics ===\n",
      "Mean:  0.6255\n",
      "Median:  0.6458\n",
      "Standard Dev:  0.0535\n",
      "Range:  (0.5417, 0.6875)\n",
      "\t===\t===\t===\t===\t===\n",
      "\n",
      "Running GNB experiment...\n",
      "\n"
     ]
    },
    {
     "data": {
      "image/png": "[encoded data removed]",
      "text/plain": [
       "<Figure size 432x216 with 1 Axes>"
      ]
     },
     "metadata": {},
     "output_type": "display_data"
    },
    {
     "data": {
      "image/png": "[encoded data removed]",
      "text/plain": [
       "<Figure size 432x216 with 2 Axes>"
      ]
     },
     "metadata": {},
     "output_type": "display_data"
    },
    {
     "name": "stdout",
     "output_type": "stream",
     "text": [
      "=== Statistics ===\n",
      "Mean:  0.7318\n",
      "Median:  0.7088\n",
      "Standard Dev:  0.093\n",
      "Range:  (0.5875, 0.875)\n",
      "\t===\t===\t===\t===\t===\n",
      "\n",
      "Running RF experiment...\n",
      "\n"
     ]
    },
    {
     "data": {
      "image/png": "[encoded data removed]",
      "text/plain": [
       "<Figure size 432x216 with 1 Axes>"
      ]
     },
     "metadata": {},
     "output_type": "display_data"
    },
    {
     "data": {
      "image/png": "[encoded data removed]",
      "text/plain": [
       "<Figure size 432x216 with 2 Axes>"
      ]
     },
     "metadata": {},
     "output_type": "display_data"
    },
    {
     "name": "stdout",
     "output_type": "stream",
     "text": [
      "=== Statistics ===\n",
      "Mean:  0.8027\n",
      "Median:  0.7857\n",
      "Standard Dev:  0.1108\n",
      "Range:  (0.6688, 1.0)\n",
      "\t===\t===\t===\t===\t===\n",
      "\n",
      "Running GBM experiment...\n",
      "\n"
     ]
    },
    {
     "data": {
      "image/png": "[encoded data removed]",
      "text/plain": [
       "<Figure size 432x216 with 1 Axes>"
      ]
     },
     "metadata": {},
     "output_type": "display_data"
    },
    {
     "data": {
      "image/png": "[encoded data removed]",
      "text/plain": [
       "<Figure size 432x216 with 2 Axes>"
      ]
     },
     "metadata": {},
     "output_type": "display_data"
    },
    {
     "name": "stdout",
     "output_type": "stream",
     "text": [
      "=== Statistics ===\n",
      "Mean:  0.7841\n",
      "Median:  0.775\n",
      "Standard Dev:  0.1147\n",
      "Range:  (0.6429, 0.9583)\n",
      "\t===\t===\t===\t===\t===\n",
      "\n",
      "Running LinSVC experiment...\n",
      "\n"
     ]
    },
    {
     "data": {
      "image/png": "[encoded data removed]",
      "text/plain": [
       "<Figure size 432x216 with 1 Axes>"
      ]
     },
     "metadata": {},
     "output_type": "display_data"
    },
    {
     "data": {
      "image/png": "[encoded data removed]",
      "text/plain": [
       "<Figure size 432x216 with 2 Axes>"
      ]
     },
     "metadata": {},
     "output_type": "display_data"
    },
    {
     "name": "stdout",
     "output_type": "stream",
     "text": [
      "=== Statistics ===\n",
      "Mean:  0.619\n",
      "Median:  0.6234\n",
      "Standard Dev:  0.0506\n",
      "Range:  (0.5417, 0.6875)\n",
      "\t===\t===\t===\t===\t===\n",
      "\n",
      "Running kNN experiment...\n",
      "\n"
     ]
    },
    {
     "data": {
      "image/png": "[encoded data removed]",
      "text/plain": [
       "<Figure size 432x216 with 1 Axes>"
      ]
     },
     "metadata": {},
     "output_type": "display_data"
    },
    {
     "data": {
      "image/png": "[encoded data removed]",
      "text/plain": [
       "<Figure size 432x216 with 2 Axes>"
      ]
     },
     "metadata": {},
     "output_type": "display_data"
    },
    {
     "name": "stdout",
     "output_type": "stream",
     "text": [
      "=== Statistics ===\n",
      "Mean:  0.7419\n",
      "Median:  0.7857\n",
      "Standard Dev:  0.1017\n",
      "Range:  (0.5714, 0.8571)\n",
      "\t===\t===\t===\t===\t===\n",
      "\n",
      "Running Centroid experiment...\n",
      "\n"
     ]
    },
    {
     "data": {
      "image/png": "[encoded data removed]",
      "text/plain": [
       "<Figure size 432x216 with 1 Axes>"
      ]
     },
     "metadata": {},
     "output_type": "display_data"
    },
    {
     "data": {
      "image/png": "[encoded data removed]",
      "text/plain": [
       "<Figure size 432x216 with 2 Axes>"
      ]
     },
     "metadata": {},
     "output_type": "display_data"
    },
    {
     "name": "stdout",
     "output_type": "stream",
     "text": [
      "=== Statistics ===\n",
      "Mean:  0.5398\n",
      "Median:  0.5625\n",
      "Standard Dev:  0.0802\n",
      "Range:  (0.4375, 0.6875)\n",
      "\t===\t===\t===\t===\t===\n",
      "\n"
     ]
    }
   ],
   "source": [
    "sklearn_results = {}\n",
    "\n",
    "for name, model in sklearn_models.items():\n",
    "    print(f\"Running {name} experiment...\")\n",
    "    print()\n",
    "    scores = run_experiments(SEEDS, X, y, model[0], roc_auc_score, 0.3, verbose=False)\n",
    "    sklearn_results[name] = scores\n",
    "    print(\"\\t===\\t===\\t===\\t===\\t===\")\n",
    "    print()"
   ]
  },
  {
   "cell_type": "code",
   "execution_count": 18,
   "metadata": {},
   "outputs": [],
   "source": [
    "skl_results_df = pd.DataFrame(sklearn_results.values(), sklearn_results.keys())\n",
    "skl_results_df['mean'] = skl_results_df.mean(axis=1)\n",
    "\n",
    "top3_df = skl_results_df.sort_values(by='mean', axis=0, ascending=False).head(3)"
   ]
  },
  {
   "cell_type": "code",
   "execution_count": 19,
   "metadata": {},
   "outputs": [],
   "source": [
    "top_3 = {k: sklearn_models[k] for k in top3_df.index}"
   ]
  },
  {
   "cell_type": "code",
   "execution_count": 20,
   "metadata": {},
   "outputs": [
    {
     "data": {
      "text/plain": [
       "{'RF': [sklearn.ensemble._forest.RandomForestClassifier],\n",
       " 'GBM': [sklearn.ensemble._gb.GradientBoostingClassifier],\n",
       " 'kNN': [sklearn.neighbors._classification.KNeighborsClassifier]}"
      ]
     },
     "execution_count": 20,
     "metadata": {},
     "output_type": "execute_result"
    }
   ],
   "source": [
    "top_3"
   ]
  },
  {
   "cell_type": "code",
   "execution_count": 21,
   "metadata": {},
   "outputs": [
    {
     "data": {
      "text/plain": [
       "0       0.785714\n",
       "1       1.000000\n",
       "2       0.875000\n",
       "3       0.875000\n",
       "4       0.668831\n",
       "5       0.700000\n",
       "6       0.714286\n",
       "mean    0.802690\n",
       "Name: RF, dtype: float64"
      ]
     },
     "execution_count": 21,
     "metadata": {},
     "output_type": "execute_result"
    }
   ],
   "source": [
    "BENCHMARK = top3_df.iloc[0]\n",
    "BENCHMARK"
   ]
  },
  {
   "cell_type": "code",
   "execution_count": 22,
   "metadata": {},
   "outputs": [],
   "source": [
    "#Now that we have the benchmark model and the top 3 we will use a randomized search\n",
    "#over a hyperparameter space for each to find optimal configurations, then run\n",
    "#the experiments again for these optimal configurations\n",
    "rf_hp_space = {'n_estimators': np.arange(80, 120),\n",
    "               'criterion': ['gini', 'entropy'],\n",
    "               'max_depth': np.arange(2, 15),\n",
    "               'min_samples_split': np.arange(2, 10),\n",
    "               'min_samples_leaf': np.arange(1, 10),\n",
    "               'max_features': ['sqrt', 'log2']\n",
    "              }\n",
    "gbm_hp_space = {'learning_rate': np.linspace(1e-4, 0.3, num=10),\n",
    "                'n_estimators': np.arange(80, 120),\n",
    "                'subsample': np.linspace(0.8, 1.0, num=10),\n",
    "                'min_samples_split': np.arange(2, 10),\n",
    "                'min_samples_leaf': np.arange(1, 10),\n",
    "                'max_depth': np.arange(2, 15)\n",
    "               }\n",
    "knn_hp_space = {'n_neighbors': np.arange(2,10),\n",
    "                'weights': ['uniform', 'distance'],\n",
    "                'algorithm': ['ball_tree', 'kd_tree'],\n",
    "                'leaf_size': np.arange(20,40)\n",
    "               }\n",
    "\n",
    "spaces = {'RF': rf_hp_space,\n",
    "          'GBM': gbm_hp_space,\n",
    "          'kNN': knn_hp_space\n",
    "         }"
   ]
  },
  {
   "cell_type": "code",
   "execution_count": 23,
   "metadata": {},
   "outputs": [
    {
     "name": "stdout",
     "output_type": "stream",
     "text": [
      "Dimension of hyperparameter space:  149760\n",
      "5%: 7488.0\t10%: 14976.0\t20%: 29952.0\n",
      "Dimension of hyperparameter space:  3744000\n",
      "5%: 187200.0\t10%: 374400.0\t20%: 748800.0\n",
      "Dimension of hyperparameter space:  640\n",
      "5%: 32.0\t10%: 64.0\t20%: 128.0\n"
     ]
    }
   ],
   "source": [
    "#We investigate checking over a fixed proportion of the hyperparameter space\n",
    "for space in spaces.values():\n",
    "    dim = 1\n",
    "    for val in space.values():\n",
    "        dim *= len(val)\n",
    "    print(\"Dimension of hyperparameter space: \", dim)\n",
    "    print(f\"5%: {dim*0.05}\\t10%: {dim*0.1}\\t20%: {dim*0.2}\")"
   ]
  },
  {
   "cell_type": "code",
   "execution_count": 24,
   "metadata": {},
   "outputs": [
    {
     "name": "stdout",
     "output_type": "stream",
     "text": [
      "RF 90\n",
      "GBM 90\n",
      "kNN 60\n"
     ]
    }
   ],
   "source": [
    "#Due to the large values above, we will use 15 candidates per parameter\n",
    "for model, space in spaces.items():\n",
    "    candidates = 15 * len(space)\n",
    "    spaces[model] = (candidates, space)\n",
    "    print(model, candidates)"
   ]
  },
  {
   "cell_type": "code",
   "execution_count": 25,
   "metadata": {},
   "outputs": [],
   "source": [
    "#We will use a new subset of data\n",
    "data_sub = data.sample(frac=0.2, replace = False)\n",
    "X_sub = data_sub.drop(columns=[\"NoShow\"])\n",
    "y_sub = data_sub.NoShow"
   ]
  },
  {
   "cell_type": "code",
   "execution_count": 26,
   "metadata": {},
   "outputs": [
    {
     "name": "stdout",
     "output_type": "stream",
     "text": [
      "Optimizing RF...\n",
      "Best score: 0.9177561637638544\n",
      "Optimizing GBM...\n",
      "Best score: 0.9170775842569554\n",
      "Optimizing kNN...\n",
      "Best score: 0.9016059714996608\n"
     ]
    }
   ],
   "source": [
    "best_params = {}\n",
    "\n",
    "for model_name, (candidates, space) in spaces.items():\n",
    "    print(f\"Optimizing {model_name}...\")\n",
    "    model = top_3[model_name][0]()\n",
    "    clf = RandomizedSearchCV(model, space, candidates, \n",
    "                             random_state=SEED)\n",
    "    search = clf.fit(X_sub, y_sub)\n",
    "    print(f\"Best score: {search.best_score_}\")\n",
    "    best_params[model_name] = search.best_params_"
   ]
  },
  {
   "cell_type": "code",
   "execution_count": 27,
   "metadata": {},
   "outputs": [
    {
     "data": {
      "text/plain": [
       "{'RF': {'n_estimators': 83,\n",
       "  'min_samples_split': 3,\n",
       "  'min_samples_leaf': 2,\n",
       "  'max_features': 'sqrt',\n",
       "  'max_depth': 9,\n",
       "  'criterion': 'entropy'},\n",
       " 'GBM': {'subsample': 0.888888888888889,\n",
       "  'n_estimators': 114,\n",
       "  'min_samples_split': 2,\n",
       "  'min_samples_leaf': 6,\n",
       "  'max_depth': 2,\n",
       "  'learning_rate': 0.23335555555555557},\n",
       " 'kNN': {'weights': 'uniform',\n",
       "  'n_neighbors': 9,\n",
       "  'leaf_size': 21,\n",
       "  'algorithm': 'ball_tree'}}"
      ]
     },
     "execution_count": 27,
     "metadata": {},
     "output_type": "execute_result"
    }
   ],
   "source": [
    "best_params"
   ]
  },
  {
   "cell_type": "code",
   "execution_count": 28,
   "metadata": {},
   "outputs": [],
   "source": [
    "#The first line became necessary since the error \"ValueError: Input contains NaN, \n",
    "#infinity or a value too large for dtype('float64')\" was continually being raised,\n",
    "#but checks for np.inf, np.nan, and -np.inf returned no rows with those values\n",
    "data_copy = data.reset_index().astype(np.float64)\n",
    "X = data_copy.drop(columns=[\"NoShow\"])\n",
    "y = data_copy.NoShow"
   ]
  },
  {
   "cell_type": "code",
   "execution_count": 29,
   "metadata": {
    "scrolled": false
   },
   "outputs": [
    {
     "name": "stdout",
     "output_type": "stream",
     "text": [
      "Running RF experiment...\n",
      "\n",
      "{'n_estimators': 83, 'min_samples_split': 3, 'min_samples_leaf': 2, 'max_features': 'sqrt', 'max_depth': 9, 'criterion': 'entropy'}\n"
     ]
    },
    {
     "data": {
      "image/png": "[encoded data removed]",
      "text/plain": [
       "<Figure size 432x216 with 1 Axes>"
      ]
     },
     "metadata": {},
     "output_type": "display_data"
    },
    {
     "data": {
      "image/png": "[encoded data removed]",
      "text/plain": [
       "<Figure size 432x216 with 2 Axes>"
      ]
     },
     "metadata": {},
     "output_type": "display_data"
    },
    {
     "name": "stdout",
     "output_type": "stream",
     "text": [
      "=== Statistics ===\n",
      "Mean:  0.9705\n",
      "Median:  0.9703\n",
      "Standard Dev:  0.001\n",
      "Range:  (0.9685, 0.9718)\n",
      "\t===\t===\t===\t===\t===\n",
      "\n",
      "Running GBM experiment...\n",
      "\n",
      "{'subsample': 0.888888888888889, 'n_estimators': 114, 'min_samples_split': 2, 'min_samples_leaf': 6, 'max_depth': 2, 'learning_rate': 0.23335555555555557}\n"
     ]
    },
    {
     "data": {
      "image/png": "[encoded data removed]",
      "text/plain": [
       "<Figure size 432x216 with 1 Axes>"
      ]
     },
     "metadata": {},
     "output_type": "display_data"
    },
    {
     "data": {
      "image/png": "[encoded data removed]",
      "text/plain": [
       "<Figure size 432x216 with 2 Axes>"
      ]
     },
     "metadata": {},
     "output_type": "display_data"
    },
    {
     "name": "stdout",
     "output_type": "stream",
     "text": [
      "=== Statistics ===\n",
      "Mean:  0.9734\n",
      "Median:  0.9734\n",
      "Standard Dev:  0.0008\n",
      "Range:  (0.9721, 0.9746)\n",
      "\t===\t===\t===\t===\t===\n",
      "\n",
      "Running kNN experiment...\n",
      "\n",
      "{'weights': 'uniform', 'n_neighbors': 9, 'leaf_size': 21, 'algorithm': 'ball_tree'}\n"
     ]
    },
    {
     "data": {
      "image/png": "[encoded data removed]",
      "text/plain": [
       "<Figure size 432x216 with 1 Axes>"
      ]
     },
     "metadata": {},
     "output_type": "display_data"
    },
    {
     "data": {
      "image/png": "[encoded data removed]",
      "text/plain": [
       "<Figure size 432x216 with 2 Axes>"
      ]
     },
     "metadata": {},
     "output_type": "display_data"
    },
    {
     "name": "stdout",
     "output_type": "stream",
     "text": [
      "=== Statistics ===\n",
      "Mean:  0.8519\n",
      "Median:  0.8524\n",
      "Standard Dev:  0.001\n",
      "Range:  (0.8505, 0.8533)\n",
      "\t===\t===\t===\t===\t===\n",
      "\n"
     ]
    }
   ],
   "source": [
    "top3_results = {}\n",
    "\n",
    "for name, params in best_params.items():\n",
    "    model = top_3[name][0]\n",
    "    print(f\"Running {name} experiment...\")\n",
    "    print()\n",
    "    print(params)\n",
    "    scores = run_experiments(SEEDS, X, y, model, roc_auc_score, 0.3, params, verbose=False)\n",
    "    top3_results[name] = scores\n",
    "    print(\"\\t===\\t===\\t===\\t===\\t===\")\n",
    "    print()"
   ]
  },
  {
   "cell_type": "code",
   "execution_count": 30,
   "metadata": {},
   "outputs": [
    {
     "data": {
      "text/plain": [
       "{'GBM': {'subsample': 0.888888888888889,\n",
       "  'n_estimators': 114,\n",
       "  'min_samples_split': 2,\n",
       "  'min_samples_leaf': 6,\n",
       "  'max_depth': 2,\n",
       "  'learning_rate': 0.23335555555555557}}"
      ]
     },
     "execution_count": 30,
     "metadata": {},
     "output_type": "execute_result"
    }
   ],
   "source": [
    "best_sklearn = {'GBM': best_params['GBM']}\n",
    "best_sklearn"
   ]
  },
  {
   "cell_type": "code",
   "execution_count": 31,
   "metadata": {},
   "outputs": [],
   "source": [
    "class SNNTraining():\n",
    "    \"\"\"Object to house hyperparameter optimization and variables\"\"\"\n",
    "    def __init__(self, train_loader, n_configs, embedding_size, num_cont_cols):\n",
    "        \"\"\"\n",
    "        Instantiates a SNNTraining object to house best parameters while the\n",
    "        search is being performed as well as other essential resources\n",
    "            ARGS:\n",
    "                train_loader(DataLoader):= dataloader containing the trainin data\n",
    "                n_configs(int):= number of hyperparameter configurations to try\n",
    "                embedding_size(list of tuples):= list of (# categories, embedding dim) \n",
    "                    tuples\n",
    "                num_cont_cols(int):= number of columns of continuous variables in the\n",
    "                    dataset\n",
    "        \"\"\"\n",
    "        self.BEST_LR = np.random.uniform(0,0.015)\n",
    "        self.BEST_MOMENTUM = np.random.normal(0.75, 0.07)\n",
    "        self.BEST_NETWORK_SHAPE = np.random.choice(['rect','conic'])\n",
    "        self.BEST_NUM_LAYERS = np.random.choice([2,3,4,5,8,16])\n",
    "        self.BEST_FIRST_LAYER_SIZE = np.random.choice([128,256,512])\n",
    "        self.BEST_LOSS = np.inf\n",
    "        \n",
    "        self.best_params_ = [self.BEST_LR, \n",
    "                             self.BEST_MOMENTUM, \n",
    "                             self.BEST_NETWORK_SHAPE, \n",
    "                             self.BEST_NUM_LAYERS, \n",
    "                             self.BEST_FIRST_LAYER_SIZE\n",
    "                            ]\n",
    "        \n",
    "        self.train_loader = train_loader\n",
    "        self.n_configs = n_configs\n",
    "        self.embedding_size = embedding_size\n",
    "        self.num_cont_cols = num_cont_cols\n",
    "        \n",
    "    def run_model(self, args):\n",
    "        \"\"\"\n",
    "        Executes the evaluation of a provided hyperparameter configuration\n",
    "            ARGS:\n",
    "                args(tuple):= tuple containing the name of the parameter and\n",
    "                    its value\n",
    "            RETURN:\n",
    "                average training loss for the configuration\n",
    "        \"\"\"\n",
    "        param, val = args\n",
    "\n",
    "        valid_shapes = ['rect', 'conic']\n",
    "        valid_n_layers = [2, 4, 8, 16, 32]\n",
    "        valid_first_sizes = [256, 512, 1024]\n",
    "\n",
    "        if param == 'learning_rate':\n",
    "            lr = val if val > 0 else -val\n",
    "            momentum = self.BEST_MOMENTUM\n",
    "            net_shape = self.BEST_NETWORK_SHAPE\n",
    "            n_layers = self.BEST_NUM_LAYERS\n",
    "            first_layer = self.BEST_FIRST_LAYER_SIZE\n",
    "        elif param == 'momentum':\n",
    "            lr = self.BEST_LR\n",
    "            momentum = val if val < 1 else val-1.0\n",
    "            net_shape = self.BEST_NETWORK_SHAPE\n",
    "            n_layers = self.BEST_NUM_LAYERS\n",
    "            first_layer = self.BEST_FIRST_LAYER_SIZE\n",
    "        elif param == 'network_shape':\n",
    "            lr = self.BEST_LR\n",
    "            momentum = self.BEST_MOMENTUM\n",
    "            net_shape = val\n",
    "            while net_shape == self.BEST_NETWORK_SHAPE:\n",
    "                net_shape = np.random.choice(valid_shapes)\n",
    "            n_layers = self.BEST_NUM_LAYERS\n",
    "            first_layer = self.BEST_FIRST_LAYER_SIZE\n",
    "        elif param == 'num_layers':\n",
    "            lr = self.BEST_LR\n",
    "            momentum = self.BEST_MOMENTUM\n",
    "            net_shape = self.BEST_NETWORK_SHAPE\n",
    "            n_layers = val\n",
    "            while n_layers == self.BEST_NUM_LAYERS:\n",
    "                n_layers = np.random.choice(valid_n_layers)\n",
    "            first_layer = self.BEST_FIRST_LAYER_SIZE\n",
    "        elif param == 'first_layer_width':\n",
    "            lr = self.BEST_LR\n",
    "            momentum = self.BEST_MOMENTUM\n",
    "            net_shape = self.BEST_NETWORK_SHAPE\n",
    "            n_layers = self.BEST_NUM_LAYERS\n",
    "            first_layer = val\n",
    "            while first_layer == self.BEST_FIRST_LAYER_SIZE:\n",
    "                first_layer = np.random.choice(valid_first_sizes)\n",
    "\n",
    "        new_params = [lr, momentum, net_shape, n_layers, first_layer]\n",
    "\n",
    "        model = NoShowModel(embed_sizes=self.embedding_size, \n",
    "                            num_cont=self.num_cont_cols,\n",
    "                            first_layer_size=first_layer,\n",
    "                            output_layer_size=1,\n",
    "                            network_shape=net_shape,\n",
    "                            num_layers=n_layers\n",
    "                           )\n",
    "\n",
    "        model.apply(init_weights)\n",
    "\n",
    "        model_params = filter(lambda param: param.requires_grad, model.parameters())\n",
    "        optimizer = optim.SGD(model_params, lr=lr, momentum=momentum, nesterov=True)\n",
    "        criterion = nn.BCEWithLogitsLoss()\n",
    "\n",
    "        model.train()\n",
    "        train_loss = 0\n",
    "        for x_embed, x_cont, y in self.train_loader:\n",
    "            optimizer.zero_grad()\n",
    "            output = model(x_embed, x_cont)\n",
    "            loss = criterion(output, y)\n",
    "            loss.backward()\n",
    "            optimizer.step()\n",
    "            train_loss += loss.item() * x_embed.size(0)\n",
    "\n",
    "        if train_loss < self.BEST_LOSS:\n",
    "            self.BEST_LOSS = train_loss\n",
    "            self.BEST_LR = lr\n",
    "            self.BEST_MOMENTUM = momentum\n",
    "            self.BEST_NETWORK_SHAPE = net_shape\n",
    "            self.BEST_NUM_LAYERS = n_layers\n",
    "            self.BEST_FIRST_LAYER_SIZE = first_layer\n",
    "\n",
    "            print(f\"New best LR: {self.BEST_LR}\\np: {self.BEST_MOMENTUM}\",\n",
    "                    f\"Shape: {self.BEST_NETWORK_SHAPE}\\n#Layers: {self.BEST_NUM_LAYERS}\",\n",
    "                    f\"First Width: {self.BEST_FIRST_LAYER_SIZE}\")\n",
    "\n",
    "        return train_loss / len(self.train_loader.dataset)\n",
    "    \n",
    "    def train(self, hyp_space):\n",
    "        \"\"\"\n",
    "        Executes the search of the hyperparameter space\n",
    "            ARGS:\n",
    "                hype_space:= hyperopt selection from the\n",
    "                    specified parameters and their domains\n",
    "        \"\"\"\n",
    "        best = fmin(fn=lambda hypers: self.run_model(hypers),\n",
    "                    space=hyp_space,\n",
    "                    algo=tpe.suggest,\n",
    "                    max_evals=self.n_configs\n",
    "                   )"
   ]
  },
  {
   "cell_type": "code",
   "execution_count": 32,
   "metadata": {},
   "outputs": [],
   "source": [
    "#Similarly we define the hyperparameter space and use 15 contenders since three of the parameters\n",
    "#are discrete with a total dim of 30 (2*5*3) and only two are continuous\n",
    "snn_space = hp.choice('hypers',\n",
    "                      [('learning_rate', hp.normal('lr', 0, 0.015)),\n",
    "                       ('momentum', hp.normal('mom', 0.75, 0.07)),\n",
    "                       ('network_shape', hp.choice('shape', ['rect','conic'])),\n",
    "                       ('num_layers', hp.choice('depth', [2,4,8,16,32])),\n",
    "                       ('first_layer_width', hp.choice('width', [256,512,1024]))\n",
    "                      ]\n",
    "                     )\n",
    "\n",
    "contenders = 15"
   ]
  },
  {
   "cell_type": "code",
   "execution_count": 33,
   "metadata": {},
   "outputs": [],
   "source": [
    "embedding_col_names, embedding_sizes, cont_col_names = get_col_info(X_sub)\n",
    "num_cont_cols = len(cont_col_names)"
   ]
  },
  {
   "cell_type": "code",
   "execution_count": 34,
   "metadata": {},
   "outputs": [],
   "source": [
    "hyperopt_loader = utils.data.DataLoader(TabDataset(X_sub, y_sub, embedding_col_names),\n",
    "                                        batch_size=32,\n",
    "                                        shuffle=True\n",
    "                                       )"
   ]
  },
  {
   "cell_type": "code",
   "execution_count": 35,
   "metadata": {},
   "outputs": [],
   "source": [
    "snn = SNNTraining(hyperopt_loader, contenders, embedding_sizes, num_cont_cols)"
   ]
  },
  {
   "cell_type": "code",
   "execution_count": 36,
   "metadata": {},
   "outputs": [
    {
     "name": "stdout",
     "output_type": "stream",
     "text": [
      "New best LR: 0.002741054636201188                     \n",
      "p: 0.6558979244406817\n",
      "Shape: conic                                          \n",
      "#Layers: 8\n",
      "First Width: 256                                      \n",
      "New best LR: 0.01404568295602579                                                 \n",
      "p: 0.6558979244406817\n",
      "Shape: conic                                                                     \n",
      "#Layers: 8\n",
      "First Width: 256                                                                 \n",
      "New best LR: 0.01404568295602579                                                 \n",
      "p: 0.6558979244406817\n",
      "Shape: conic                                                                     \n",
      "#Layers: 8\n",
      "First Width: 1024                                                                \n",
      "New best LR: 0.01404568295602579                                                 \n",
      "p: 0.6558979244406817\n",
      "Shape: conic                                                                     \n",
      "#Layers: 4\n",
      "First Width: 1024                                                                \n",
      "New best LR: 0.01404568295602579                                                 \n",
      "p: 0.6558979244406817\n",
      "Shape: rect                                                                      \n",
      "#Layers: 4\n",
      "First Width: 1024                                                                \n",
      "New best LR: 0.01404568295602579                                                 \n",
      "p: 0.6875106223167309\n",
      "Shape: rect                                                                      \n",
      "#Layers: 4\n",
      "First Width: 1024                                                                \n",
      "New best LR: 0.01404568295602579                                                  \n",
      "p: 0.6875106223167309\n",
      "Shape: conic                                                                      \n",
      "#Layers: 4\n",
      "First Width: 1024                                                                 \n",
      "New best LR: 0.01404568295602579                                                   \n",
      "p: 0.6875106223167309\n",
      "Shape: rect                                                                        \n",
      "#Layers: 4\n",
      "First Width: 1024                                                                  \n",
      "New best LR: 0.01404568295602579                                                   \n",
      "p: 0.7327891711672339\n",
      "Shape: rect                                                                        \n",
      "#Layers: 4\n",
      "First Width: 1024                                                                  \n",
      "100%|██████████| 15/15 [57:08<00:00, 228.59s/trial, best loss: 0.27536157123564164]\n"
     ]
    }
   ],
   "source": [
    "snn.train(snn_space)"
   ]
  },
  {
   "cell_type": "code",
   "execution_count": 37,
   "metadata": {},
   "outputs": [
    {
     "data": {
      "text/plain": [
       "{'lr': 0.002741054636201188,\n",
       " 'momentum': 0.6558979244406817,\n",
       " 'network_shape': 'conic',\n",
       " 'num_layers': 16,\n",
       " 'first_layer_width': 256}"
      ]
     },
     "execution_count": 37,
     "metadata": {},
     "output_type": "execute_result"
    }
   ],
   "source": [
    "param_names = ['lr','momentum','network_shape','num_layers','first_layer_width']\n",
    "snn_best_params = {k:v for k,v in zip(param_names, snn.best_params_)}\n",
    "snn_best_params"
   ]
  },
  {
   "cell_type": "code",
   "execution_count": 38,
   "metadata": {},
   "outputs": [],
   "source": [
    "def save_model(state_dict, filename):\n",
    "    torch.save(state_dict, filename)\n",
    "    print(f\"Saved best model state_dict as {filename}\")"
   ]
  },
  {
   "cell_type": "code",
   "execution_count": 39,
   "metadata": {},
   "outputs": [],
   "source": [
    "def train(model, optimizer, criterion, epochs, \n",
    "          train_loader, test_loader, \n",
    "          save_name, stop_after=3,\n",
    "          oclr_max=None):\n",
    "    \"\"\"\n",
    "    Trains the SNN model and monitors the validation loss. It will save the model\n",
    "    periodically as the validation loss decreases and will stop training early as\n",
    "    defined. Broken into training and validation phases\n",
    "        ARGS:\n",
    "            model(NoShowModel):= custom defined torch based SNN model\n",
    "            optimizer:= pytorch optimizer\n",
    "            criterion:= pytorch loss function\n",
    "            epochs(int):= number of times the model will train over the entire\n",
    "                dataset\n",
    "            train_loader(DataLoader):= dataloader containing the training data\n",
    "            test_loader(DataLoader):= dataloader containing the testing data\n",
    "            save_name(str):= filename to save the best model state\n",
    "            stop_after(int):= number of epochs without improvement over best loss\n",
    "                before training is stoped\n",
    "            oclr_max(float):= max learning rate value for the OneCycle Learning Rate\n",
    "                scheduler object\n",
    "        RETURN:\n",
    "            the model that obtained the lowest validation loss during training\n",
    "    \"\"\"\n",
    "    best_valid_loss = np.inf\n",
    "    best_model = None\n",
    "    train_losses = []\n",
    "    valid_losses = []\n",
    "    \n",
    "    stop_counter = 0\n",
    "    \n",
    "    if oclr_max:\n",
    "        scheduler = optim.lr_scheduler.OneCycleLR(optimizer,\n",
    "                                                  max_lr=oclr_max,\n",
    "                                                  steps_per_epoch=len(train_loader),\n",
    "                                                  epochs=epochs\n",
    "                                                 )\n",
    "    \n",
    "    for e in range(epochs):\n",
    "        ############\n",
    "        #Train loop#\n",
    "        ############\n",
    "        train_loss = 0\n",
    "        model.train()\n",
    "        for x_embed, x_cont, y in train_loader:\n",
    "            optimizer.zero_grad()\n",
    "            output = model(x_embed, x_cont)\n",
    "            loss = criterion(output, y)\n",
    "            loss.backward()\n",
    "            optimizer.step()\n",
    "            train_loss += loss.item() * x_embed.size(0)\n",
    "            \n",
    "            if oclr_max:\n",
    "                scheduler.step()\n",
    "\n",
    "        train_loss = train_loss / len(train_loader.dataset)\n",
    "        train_losses.append(train_loss)\n",
    "\n",
    "        ############\n",
    "        #Valid loop#\n",
    "        ############\n",
    "        valid_loss = 0\n",
    "        model.eval()\n",
    "        preds = []\n",
    "        actuals = []\n",
    "        for x_embed, x_cont, y in test_loader:\n",
    "            output = model(x_embed, x_cont)\n",
    "            loss = criterion(output,  y)\n",
    "            valid_loss += loss.item() * x_embed.size(0)\n",
    "            pred = torch.sigmoid(output).round()\n",
    "            preds.append(pred)\n",
    "            actuals.append(y)\n",
    "\n",
    "        valid_loss = valid_loss / len(test_loader.dataset)\n",
    "        valid_losses.append(valid_loss)\n",
    "        \n",
    "        preds_array = np.vstack([t.detach().numpy() for t in preds])\n",
    "        actuals_array = np.vstack([t.detach().numpy() for t in actuals])\n",
    "        auc = roc_auc_score(actuals_array, preds_array)\n",
    "\n",
    "        print(\"===\\t===\\t===\\t===\\t===\\t\")\n",
    "        print(\"Epoch {}:\\n\\tTraining Loss: {:.4f}\\n\\tValid Loss: {:.4f}\".format(e+1, train_loss, valid_loss))\n",
    "        print(\"ROC AUC: {:.4f}\".format(auc))\n",
    "\n",
    "        if valid_loss < best_valid_loss:\n",
    "            save_model(model.state_dict(), f\"{save_name}.pth\")\n",
    "            best_valid_loss = valid_loss\n",
    "            best_model = model\n",
    "            stop_counter = 0\n",
    "        \n",
    "        if valid_loss > best_valid_loss:\n",
    "            stop_counter += 1\n",
    "            print(\"Epochs without improvement over best: \",stop_counter)\n",
    "            \n",
    "        if stop_counter >= stop_after:\n",
    "            return best_model\n",
    "            \n",
    "            \n",
    "    return best_model"
   ]
  },
  {
   "cell_type": "code",
   "execution_count": 42,
   "metadata": {
    "scrolled": false
   },
   "outputs": [
    {
     "name": "stdout",
     "output_type": "stream",
     "text": [
      "===\t===\t===\t===\t===\t\n",
      "Epoch 1:\n",
      "\tTraining Loss: 0.2843\n",
      "\tValid Loss: 0.2059\n",
      "ROC AUC: 0.7776\n",
      "Saved best model state_dict as snn_model.pth\n",
      "===\t===\t===\t===\t===\t\n",
      "Epoch 2:\n",
      "\tTraining Loss: 0.2563\n",
      "\tValid Loss: 0.1924\n",
      "ROC AUC: 0.8383\n",
      "Saved best model state_dict as snn_model.pth\n",
      "===\t===\t===\t===\t===\t\n",
      "Epoch 3:\n",
      "\tTraining Loss: 0.2518\n",
      "\tValid Loss: 0.1969\n",
      "ROC AUC: 0.8028\n",
      "Epochs without improvement over best:  1\n",
      "===\t===\t===\t===\t===\t\n",
      "Epoch 4:\n",
      "\tTraining Loss: 0.2467\n",
      "\tValid Loss: 0.2432\n",
      "ROC AUC: 0.7166\n",
      "Epochs without improvement over best:  2\n",
      "===\t===\t===\t===\t===\t\n",
      "Epoch 5:\n",
      "\tTraining Loss: 0.2490\n",
      "\tValid Loss: 0.2260\n",
      "ROC AUC: 0.9032\n",
      "Epochs without improvement over best:  3\n"
     ]
    }
   ],
   "source": [
    "snn_scores = []\n",
    "X = data.drop(columns=[\"NoShow\"])\n",
    "y = data.NoShow\n",
    "\n",
    "torch.manual_seed(SEEDS[0])\n",
    "#Prepare dataloaders\n",
    "embedding_col_names, embedding_size, cont_col_names = get_col_info(X)\n",
    "num_cont_cols = len(cont_col_names)\n",
    "\n",
    "X_train, X_test, y_train, y_test = train_test_split(X, y, test_size=0.3, random_state=SEEDS[0])\n",
    "train_loader = utils.data.DataLoader(TabDataset(X_train, y_train, embedding_col_names),\n",
    "                                     batch_size=32,\n",
    "                                     shuffle=True\n",
    "                                    )\n",
    "test_loader = utils.data.DataLoader(TabDataset(X_test, y_test, embedding_col_names),\n",
    "                                    batch_size=32,\n",
    "                                    shuffle=True\n",
    "                                   )\n",
    "\n",
    "#Prepare model, optimizer, and criterion\n",
    "model = NoShowModel(embed_sizes=embedding_size, \n",
    "                    num_cont=num_cont_cols,\n",
    "                    first_layer_size=snn_best_params['first_layer_width'],\n",
    "                    output_layer_size=1,\n",
    "                    network_shape=snn_best_params['network_shape'],\n",
    "                    num_layers=snn_best_params['num_layers']\n",
    "                   )\n",
    "model.apply(init_weights)\n",
    "\n",
    "model_params = filter(lambda param: param.requires_grad, model.parameters())\n",
    "optimizer = optim.SGD(model_params, lr=snn_best_params['lr'], \n",
    "                      momentum=snn_best_params['momentum'], nesterov=True)\n",
    "criterion = nn.BCEWithLogitsLoss()\n",
    "\n",
    "#Train model\n",
    "best_model = train(model, \n",
    "                   optimizer, \n",
    "                   criterion, \n",
    "                   50,\n",
    "                   train_loader, \n",
    "                   test_loader,\n",
    "                   save_name=f\"snn_model\", \n",
    "                   stop_after=3, \n",
    "                   oclr_max=0.1)"
   ]
  },
  {
   "cell_type": "code",
   "execution_count": 43,
   "metadata": {},
   "outputs": [],
   "source": [
    "#Generate predictions for scoring\n",
    "preds = []\n",
    "actuals = []\n",
    "\n",
    "best_model.eval()\n",
    "for x_embed, x_cont, y in test_loader:\n",
    "    output = best_model(x_embed, x_cont)\n",
    "    pred = torch.sigmoid(output).round()\n",
    "    preds.append(pred)\n",
    "    actuals.append(y)\n",
    "\n",
    "preds_array = np.vstack([t.detach().numpy() for t in preds])\n",
    "actuals_array = np.vstack([t.detach().numpy() for t in actuals])\n",
    "\n",
    "score = roc_auc_score(actuals_array, preds_array)\n",
    "\n",
    "snn_scores.append(score)"
   ]
  },
  {
   "cell_type": "code",
   "execution_count": 44,
   "metadata": {},
   "outputs": [
    {
     "data": {
      "text/plain": [
       "[0.9032082091576302]"
      ]
     },
     "execution_count": 44,
     "metadata": {},
     "output_type": "execute_result"
    }
   ],
   "source": [
    "snn_scores"
   ]
  },
  {
   "cell_type": "code",
   "execution_count": null,
   "metadata": {},
   "outputs": [],
   "source": []
  },
  {
   "cell_type": "code",
   "execution_count": null,
   "metadata": {},
   "outputs": [],
   "source": []
  }
 ],
 "metadata": {
  "kernelspec": {
   "display_name": "conda_pytorch_p36",
   "language": "python",
   "name": "conda_pytorch_p36"
  },
  "language_info": {
   "codemirror_mode": {
    "name": "ipython",
    "version": 3
   },
   "file_extension": ".py",
   "mimetype": "text/x-python",
   "name": "python",
   "nbconvert_exporter": "python",
   "pygments_lexer": "ipython3",
   "version": "3.6.5"
  }
 },
 "nbformat": 4,
 "nbformat_minor": 4
}
